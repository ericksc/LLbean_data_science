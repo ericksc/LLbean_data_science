{
 "cells": [
  {
   "cell_type": "code",
   "execution_count": 1,
   "metadata": {},
   "outputs": [],
   "source": [
    "# ejercicio sobre diccionarios, listas y tuplas\n",
    "# Suponga que se tienen 5 personas. jose , maria, carlos,\n",
    "# daniel, luis.\n",
    "# cada persona tiene: nombre, email, telefono\n",
    "\n",
    "# 1 proponga una estructura de datos tener una colección\n",
    "# dichos elementos por persona.\n",
    "\n",
    "# 2 . utilizando la informacion anterior\n",
    "# construya una agenda de contactos\n",
    "\n",
    "# 3. Utlizando el paso 2. Consultar la información para \n",
    "# una alguna persona en particular"
   ]
  },
  {
   "cell_type": "code",
   "execution_count": 2,
   "metadata": {},
   "outputs": [
    {
     "data": {
      "text/plain": [
       "{'nombre': 'jose', 'email': 'j@j.com', 'telefono': 785784}"
      ]
     },
     "execution_count": 2,
     "metadata": {},
     "output_type": "execute_result"
    }
   ],
   "source": [
    "jose = {'nombre' : 'jose', 'email': 'j@j.com', 'telefono' : 785784}\n",
    "jose"
   ]
  },
  {
   "cell_type": "code",
   "execution_count": 3,
   "metadata": {},
   "outputs": [
    {
     "data": {
      "text/plain": [
       "{'nombre': 'maria', 'email': 'm@m.com', 'telefono': '1-800-94578'}"
      ]
     },
     "execution_count": 3,
     "metadata": {},
     "output_type": "execute_result"
    }
   ],
   "source": [
    "maria = {'nombre' : 'maria', 'email': 'm@m.com', 'telefono' : '1-800-94578'}\n",
    "maria"
   ]
  },
  {
   "cell_type": "code",
   "execution_count": 4,
   "metadata": {},
   "outputs": [
    {
     "data": {
      "text/plain": [
       "{'jose': {'nombre': 'jose', 'email': 'j@j.com', 'telefono': 785784},\n",
       " 'maria': {'nombre': 'maria', 'email': 'm@m.com', 'telefono': '1-800-94578'}}"
      ]
     },
     "execution_count": 4,
     "metadata": {},
     "output_type": "execute_result"
    }
   ],
   "source": [
    "# agenda\n",
    "mi_agenda = {'jose' : jose, 'maria': maria}\n",
    "mi_agenda"
   ]
  },
  {
   "cell_type": "code",
   "execution_count": 5,
   "metadata": {},
   "outputs": [
    {
     "data": {
      "text/plain": [
       "{'nombre': 'jose', 'email': 'j@j.com', 'telefono': 785784}"
      ]
     },
     "execution_count": 5,
     "metadata": {},
     "output_type": "execute_result"
    }
   ],
   "source": [
    "mi_agenda['jose']"
   ]
  },
  {
   "cell_type": "code",
   "execution_count": 6,
   "metadata": {},
   "outputs": [
    {
     "data": {
      "text/plain": [
       "'1-800-94578'"
      ]
     },
     "execution_count": 6,
     "metadata": {},
     "output_type": "execute_result"
    }
   ],
   "source": [
    "mi_agenda['maria']['telefono']"
   ]
  },
  {
   "cell_type": "code",
   "execution_count": 7,
   "metadata": {},
   "outputs": [],
   "source": [
    "# 4 Para cada uno de los nombre del diccionario\n",
    "# creat una tupla con la informacion disponible\n",
    "# ('jose','j@j.com', 78578)"
   ]
  },
  {
   "cell_type": "code",
   "execution_count": 8,
   "metadata": {},
   "outputs": [
    {
     "data": {
      "text/plain": [
       "{'jose': {'nombre': 'jose', 'email': 'j@j.com', 'telefono': 785784},\n",
       " 'maria': {'nombre': 'maria', 'email': 'm@m.com', 'telefono': '1-800-94578'}}"
      ]
     },
     "execution_count": 8,
     "metadata": {},
     "output_type": "execute_result"
    }
   ],
   "source": [
    "mi_agenda"
   ]
  },
  {
   "cell_type": "code",
   "execution_count": 9,
   "metadata": {},
   "outputs": [],
   "source": [
    "tupla1 = (jose[\"email\"],jose[\"nombre\"],jose[\"telefono\"])"
   ]
  },
  {
   "cell_type": "code",
   "execution_count": 10,
   "metadata": {},
   "outputs": [
    {
     "data": {
      "text/plain": [
       "('j@j.com', 'jose', 785784)"
      ]
     },
     "execution_count": 10,
     "metadata": {},
     "output_type": "execute_result"
    }
   ],
   "source": [
    "tupla1"
   ]
  },
  {
   "cell_type": "code",
   "execution_count": 11,
   "metadata": {},
   "outputs": [],
   "source": [
    "tupla2= (jose.values())"
   ]
  },
  {
   "cell_type": "code",
   "execution_count": 12,
   "metadata": {},
   "outputs": [
    {
     "data": {
      "text/plain": [
       "dict_values(['jose', 'j@j.com', 785784])"
      ]
     },
     "execution_count": 12,
     "metadata": {},
     "output_type": "execute_result"
    }
   ],
   "source": [
    "tupla2"
   ]
  },
  {
   "cell_type": "code",
   "execution_count": 13,
   "metadata": {},
   "outputs": [
    {
     "data": {
      "text/plain": [
       "('jose', 'j@j.com', 785784)"
      ]
     },
     "execution_count": 13,
     "metadata": {},
     "output_type": "execute_result"
    }
   ],
   "source": [
    "tuple (tupla2)"
   ]
  },
  {
   "cell_type": "code",
   "execution_count": 14,
   "metadata": {},
   "outputs": [
    {
     "name": "stdout",
     "output_type": "stream",
     "text": [
      "('jose', 'j@j.com', 785784)\n",
      "('maria', 'm@m.com', '1-800-94578')\n"
     ]
    }
   ],
   "source": [
    "for value, key in mi_agenda.items():\n",
    "    tuple_example = (value, key['email'], key['telefono'])\n",
    "    print(tuple_example)\n",
    "    \n"
   ]
  },
  {
   "cell_type": "code",
   "execution_count": 15,
   "metadata": {},
   "outputs": [],
   "source": [
    "####\n"
   ]
  },
  {
   "cell_type": "code",
   "execution_count": 16,
   "metadata": {},
   "outputs": [
    {
     "name": "stdout",
     "output_type": "stream",
     "text": [
      "jose\n",
      "maria\n"
     ]
    }
   ],
   "source": [
    "for elemento in mi_agenda.keys():\n",
    "    print(elemento)"
   ]
  },
  {
   "cell_type": "code",
   "execution_count": 17,
   "metadata": {},
   "outputs": [
    {
     "name": "stdout",
     "output_type": "stream",
     "text": [
      "jose {'nombre': 'jose', 'email': 'j@j.com', 'telefono': 785784}\n",
      "maria {'nombre': 'maria', 'email': 'm@m.com', 'telefono': '1-800-94578'}\n"
     ]
    }
   ],
   "source": [
    "for elemento1, elemento2 in mi_agenda.items():\n",
    "    print(elemento1, elemento2)\n",
    "    "
   ]
  },
  {
   "cell_type": "code",
   "execution_count": 20,
   "metadata": {},
   "outputs": [
    {
     "name": "stdout",
     "output_type": "stream",
     "text": [
      "('jose', 'j@j.com', 785784)\n",
      "('maria', 'm@m.com', '1-800-94578')\n"
     ]
    }
   ],
   "source": [
    "for key in mi_agenda.keys():\n",
    "    print(tuple(mi_agenda[key].values()))"
   ]
  },
  {
   "cell_type": "code",
   "execution_count": null,
   "metadata": {},
   "outputs": [],
   "source": []
  }
 ],
 "metadata": {
  "kernelspec": {
   "display_name": "Python 3",
   "language": "python",
   "name": "python3"
  },
  "language_info": {
   "codemirror_mode": {
    "name": "ipython",
    "version": 3
   },
   "file_extension": ".py",
   "mimetype": "text/x-python",
   "name": "python",
   "nbconvert_exporter": "python",
   "pygments_lexer": "ipython3",
   "version": "3.6.5"
  }
 },
 "nbformat": 4,
 "nbformat_minor": 2
}
