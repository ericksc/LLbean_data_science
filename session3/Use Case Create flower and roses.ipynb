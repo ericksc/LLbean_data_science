{
  "cells": [
    {
      "metadata": {},
      "cell_type": "markdown",
      "source": "# Classes and heritage"
    },
    {
      "metadata": {},
      "cell_type": "markdown",
      "source": "## Use case"
    },
    {
      "metadata": {},
      "cell_type": "markdown",
      "source": "### Hibrid roses creation"
    },
    {
      "metadata": {},
      "cell_type": "markdown",
      "source": "In this example, let's create a simple flower with some methods and attributes. That flower structure may be used as template to create a specific type of flower like a rose."
    },
    {
      "metadata": {},
      "cell_type": "markdown",
      "source": "![text](https://encrypted-tbn0.gstatic.com/images?q=tbn:ANd9GcR-p58gOpazW84KsEZoJ6h0f_UYpX_M-9hpVnUSkPyAYGU6IuI9yg)"
    },
    {
      "metadata": {
        "trusted": false
      },
      "cell_type": "code",
      "source": "# Misc classes\nclass misc:\n    def __repr__(self):\n        # return the clase name\n        return self.__class__.__name__\n\n    def __str__(self):\n        # return the clase name\n        return self.__class__.__name__",
      "execution_count": 2,
      "outputs": []
    },
    {
      "metadata": {},
      "cell_type": "markdown",
      "source": "Create flower components such as lemma, pedicel, stigma and filament"
    },
    {
      "metadata": {
        "trusted": false
      },
      "cell_type": "code",
      "source": "# Define lemma class\nclass lemma(misc):\n    def __init__(self):\n        self.color = None",
      "execution_count": 3,
      "outputs": []
    },
    {
      "metadata": {
        "trusted": false
      },
      "cell_type": "code",
      "source": "# Define pedicel class\nclass pedicel(misc):\n    def __init__(self):\n        self.color = None",
      "execution_count": 4,
      "outputs": []
    },
    {
      "metadata": {
        "trusted": false
      },
      "cell_type": "code",
      "source": "# Define stigma class\nclass stigma(misc):\n    def __init__(self):\n        self.color = None",
      "execution_count": 5,
      "outputs": []
    },
    {
      "metadata": {
        "trusted": false
      },
      "cell_type": "code",
      "source": "# Define filament class\nclass filament(misc):\n    def __init__(self):\n        self.color = None",
      "execution_count": 6,
      "outputs": []
    },
    {
      "metadata": {},
      "cell_type": "markdown",
      "source": "The generic flower class can be initializated with a few components eg. a list of lemmas."
    },
    {
      "metadata": {
        "trusted": false
      },
      "cell_type": "code",
      "source": "# Define simple flower class\nclass flower(misc):\n    def __init__(self, n_lemma=1, n_stigmas=1, n_filaments=1):\n        self.n_lemma = n_lemma\n        self.n_stigmas = n_stigmas        \n        self.n_filaments = n_filaments\n\n    def grow(self):\n        print(f'The {self.__str__()} is growning')\n\n    def dead(self):\n        print(f'The {self.__str__()} was gone')",
      "execution_count": 7,
      "outputs": []
    },
    {
      "metadata": {},
      "cell_type": "markdown",
      "source": "Create a specific flower as a rose with speficilizaded logic or attributes."
    },
    {
      "metadata": {
        "trusted": false
      },
      "cell_type": "code",
      "source": "class rose(flower):\n\n    def __init__(self, lemma_color='red',\n                 stigma_color='green',\n                 filament_color ='yellow',\n                 n_lemma=1, n_stigmas=1, n_filaments=1):\n        super().__init__(n_lemma, n_stigmas, n_filaments)\n",
      "execution_count": 8,
      "outputs": []
    },
    {
      "metadata": {},
      "cell_type": "markdown",
      "source": "Two colored roses were created."
    },
    {
      "metadata": {
        "trusted": false
      },
      "cell_type": "code",
      "source": "my_rose_orange = rose('orange',n_lemma=6)\nmy_rose_blue = rose('blue',n_lemma=6)",
      "execution_count": 10,
      "outputs": []
    },
    {
      "metadata": {
        "trusted": false
      },
      "cell_type": "code",
      "source": "my_rose_orange.grow()",
      "execution_count": 11,
      "outputs": [
        {
          "name": "stdout",
          "output_type": "stream",
          "text": "The rose is growning\n"
        }
      ]
    },
    {
      "metadata": {
        "trusted": false
      },
      "cell_type": "code",
      "source": "my_rose_blue.dead()",
      "execution_count": 12,
      "outputs": [
        {
          "name": "stdout",
          "output_type": "stream",
          "text": "The rose was gone\n"
        }
      ]
    },
    {
      "metadata": {
        "trusted": false
      },
      "cell_type": "code",
      "source": "",
      "execution_count": null,
      "outputs": []
    }
  ],
  "metadata": {
    "kernelspec": {
      "name": "python3",
      "display_name": "Python 3",
      "language": "python"
    },
    "language_info": {
      "mimetype": "text/x-python",
      "nbconvert_exporter": "python",
      "name": "python",
      "pygments_lexer": "ipython3",
      "version": "3.5.4",
      "file_extension": ".py",
      "codemirror_mode": {
        "version": 3,
        "name": "ipython"
      }
    }
  },
  "nbformat": 4,
  "nbformat_minor": 2
}