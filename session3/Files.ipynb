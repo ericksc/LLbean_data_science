{
  "cells": [
    {
      "metadata": {},
      "cell_type": "markdown",
      "source": "Python dispone una estructura de datos específica para trabajar con ficheros: el stream como flujo de información entre la aplicación, el sistema de archivos y el sistema de memoria."
    },
    {
      "metadata": {},
      "cell_type": "markdown",
      "source": "Comprende 4 operaciones básicas como la apertura, creación, lectura y escritura de datos"
    },
    {
      "metadata": {},
      "cell_type": "markdown",
      "source": "Para la apertura se tiene el comando open. Tiene como argumentos la ruta del archivo, el modo."
    },
    {
      "metadata": {},
      "cell_type": "markdown",
      "source": "Básicamente hay 2 tipos de archivos: texto y binarios."
    },
    {
      "metadata": {
        "trusted": false
      },
      "cell_type": "code",
      "source": "from os import path\nruta_archivo = path.join('directorio', 'archivo.txt')",
      "execution_count": null,
      "outputs": []
    },
    {
      "metadata": {},
      "cell_type": "markdown",
      "source": "## Escritura"
    },
    {
      "metadata": {},
      "cell_type": "markdown",
      "source": "Una forma de escribir archivo puede ser de la siguiente forma"
    },
    {
      "metadata": {},
      "cell_type": "markdown",
      "source": "Se Recomienda usar contexto 'with' para administrar los archivos de mejor manera. el contexto para el método open permite gestionar la apertura y el cierra automáticamente para evitar especificarlo explícitamente."
    },
    {
      "metadata": {
        "trusted": false
      },
      "cell_type": "code",
      "source": "with open('Archivo_Python.txt', 'a+') as f:\n    f.write('Hello otra vez!\\n')",
      "execution_count": 4,
      "outputs": []
    },
    {
      "metadata": {
        "trusted": false
      },
      "cell_type": "code",
      "source": "%ls data.txt",
      "execution_count": 5,
      "outputs": [
        {
          "name": "stdout",
          "output_type": "stream",
          "text": " Volume in drive C is OS\n Volume Serial Number is D69D-F564\n\n Directory of C:\\Users\\ecsa\n\n02/28/2019  07:31 AM                 7 data.txt\n               1 File(s)              7 bytes\n               0 Dir(s)  80,039,895,040 bytes free\n"
        }
      ]
    },
    {
      "metadata": {
        "trusted": false
      },
      "cell_type": "code",
      "source": "% echo data.txt",
      "execution_count": 8,
      "outputs": [
        {
          "name": "stdout",
          "output_type": "stream",
          "text": "data.txt\n"
        }
      ]
    },
    {
      "metadata": {},
      "cell_type": "markdown",
      "source": "Igualmente la lectura se puede hacer con la misma estrategia."
    },
    {
      "metadata": {},
      "cell_type": "markdown",
      "source": "## Lectura"
    },
    {
      "metadata": {
        "trusted": false
      },
      "cell_type": "code",
      "source": "with open('data.txt', 'r') as f:\n    text = f.read()",
      "execution_count": 31,
      "outputs": []
    },
    {
      "metadata": {},
      "cell_type": "markdown",
      "source": "Se creó una variable 'text' con el contenido del archivo"
    },
    {
      "metadata": {
        "scrolled": true,
        "trusted": false
      },
      "cell_type": "code",
      "source": "text",
      "execution_count": 32,
      "outputs": [
        {
          "data": {
            "text/plain": "'Hello\\n'"
          },
          "execution_count": 32,
          "metadata": {},
          "output_type": "execute_result"
        }
      ]
    },
    {
      "metadata": {},
      "cell_type": "markdown",
      "source": "## Escritura de varias líneas"
    },
    {
      "metadata": {
        "trusted": false
      },
      "cell_type": "code",
      "source": "with open('mas_datos.txt', 'a') as f:\n    f.writelines(['primera linea\\n', 'segunda linea\\n'])",
      "execution_count": 51,
      "outputs": []
    },
    {
      "metadata": {
        "trusted": false
      },
      "cell_type": "code",
      "source": "# ejercicio\n# a es para agregar : append\n# r para leer: read\n# w para escribir: write\nwith open('otro_archivo.txt', 'a') as f:\n    f.writelines(['Practico\\n', 'Aprendo\\n', 'Pregunto\\n'])",
      "execution_count": 6,
      "outputs": []
    },
    {
      "metadata": {
        "trusted": false
      },
      "cell_type": "code",
      "source": "with open('mas_datos.txt', 'r') as f:\n    text = f.read()\n    text",
      "execution_count": 52,
      "outputs": []
    },
    {
      "metadata": {
        "trusted": false
      },
      "cell_type": "code",
      "source": "text",
      "execution_count": 53,
      "outputs": [
        {
          "data": {
            "text/plain": "'primera linea\\nsegunda linea\\nprimera linea\\nsegunda linea\\nprimera linea\\nsegunda linea\\nprimera linea\\nsegunda linea\\n'"
          },
          "execution_count": 53,
          "metadata": {},
          "output_type": "execute_result"
        }
      ]
    },
    {
      "metadata": {},
      "cell_type": "markdown",
      "source": "Para leer todas las líneas al mismo tiempo"
    },
    {
      "metadata": {
        "trusted": false
      },
      "cell_type": "code",
      "source": "with open('mas_datos.txt', 'r') as f:\n    text = f.readlines()\n    text",
      "execution_count": 54,
      "outputs": []
    },
    {
      "metadata": {
        "trusted": false
      },
      "cell_type": "code",
      "source": "text",
      "execution_count": 55,
      "outputs": [
        {
          "data": {
            "text/plain": "['primera linea\\n',\n 'segunda linea\\n',\n 'primera linea\\n',\n 'segunda linea\\n',\n 'primera linea\\n',\n 'segunda linea\\n',\n 'primera linea\\n',\n 'segunda linea\\n']"
          },
          "execution_count": 55,
          "metadata": {},
          "output_type": "execute_result"
        }
      ]
    },
    {
      "metadata": {},
      "cell_type": "markdown",
      "source": "## Serialización"
    },
    {
      "metadata": {},
      "cell_type": "markdown",
      "source": "Para el transporte de datos a través de una red o crear una copia exacta de un objecto."
    },
    {
      "metadata": {},
      "cell_type": "markdown",
      "source": "Por ejemplo se crea una clase personalizada y un objecto de la misma"
    },
    {
      "metadata": {
        "trusted": false
      },
      "cell_type": "code",
      "source": "# ejemplo creación de una clase\nclass Alumno:\n    def __init__(self, nombre_completo, titulo, edad):\n        self.apellidos = nombre_completo['apellidos']\n        self.nombre = nombre_completo['nombre']\n        self.titulacion = titulo\n        self.edad = edad\n        \n    def __repr__(self):\n        return repr([self.nombre, self.apellidos, self.titulacion])",
      "execution_count": 4,
      "outputs": []
    },
    {
      "metadata": {
        "trusted": false
      },
      "cell_type": "code",
      "source": "nombre_completo = {'apellidos': 'Salas Chaverri', 'nombre': 'Erick'}\nalumno = Alumno(nombre_completo, 'ing', 18)",
      "execution_count": 5,
      "outputs": []
    },
    {
      "metadata": {
        "trusted": false
      },
      "cell_type": "code",
      "source": "alumno",
      "execution_count": 6,
      "outputs": [
        {
          "data": {
            "text/plain": "['Erick', 'Salas Chaverri', 'ing']"
          },
          "execution_count": 6,
          "metadata": {},
          "output_type": "execute_result"
        }
      ]
    },
    {
      "metadata": {
        "trusted": false
      },
      "cell_type": "code",
      "source": "type(alumno)",
      "execution_count": 81,
      "outputs": [
        {
          "data": {
            "text/plain": "__main__.Alumno"
          },
          "execution_count": 81,
          "metadata": {},
          "output_type": "execute_result"
        }
      ]
    },
    {
      "metadata": {},
      "cell_type": "markdown",
      "source": "Se intenta serializar para condensar dicho objecto en forma de archivo"
    },
    {
      "metadata": {
        "trusted": false
      },
      "cell_type": "code",
      "source": "import pickle\n\nwith open('alumno.pickle', 'wb') as f:\n    # Pickle the 'data' dictionary using the highest protocol available.\n    pickle.dump(alumno, f, pickle.HIGHEST_PROTOCOL)",
      "execution_count": 82,
      "outputs": []
    },
    {
      "metadata": {},
      "cell_type": "markdown",
      "source": "Para el proceso inverso: la deserialización se invoca al método load()"
    },
    {
      "metadata": {
        "trusted": false
      },
      "cell_type": "code",
      "source": "with open('alumno.pickle', 'rb') as f:\n    # Pickle the 'data' dictionary using the highest protocol available.\n    mi_alumno = pickle.load(f)",
      "execution_count": 68,
      "outputs": []
    },
    {
      "metadata": {
        "trusted": false
      },
      "cell_type": "code",
      "source": "mi_alumno",
      "execution_count": 69,
      "outputs": [
        {
          "data": {
            "text/plain": "['Erick', 'Salas Chaverri', 'ing']"
          },
          "execution_count": 69,
          "metadata": {},
          "output_type": "execute_result"
        }
      ]
    },
    {
      "metadata": {},
      "cell_type": "markdown",
      "source": "## Archivos CSV"
    },
    {
      "metadata": {},
      "cell_type": "markdown",
      "source": "Se importa el modulo de csv"
    },
    {
      "metadata": {
        "trusted": false
      },
      "cell_type": "code",
      "source": "import csv",
      "execution_count": 84,
      "outputs": []
    },
    {
      "metadata": {
        "trusted": false
      },
      "cell_type": "code",
      "source": "with open('archivo_csv.csv') as f:\n    reader = csv.reader(f)\n    for i in reader:\n        print(i)",
      "execution_count": 85,
      "outputs": [
        {
          "name": "stdout",
          "output_type": "stream",
          "text": "['maria', 'salas', 'derecho', '22']\n['jose', 'lopez', 'doctor', '34']\n['carlos', 'arias', 'maestro', '44']\n"
        }
      ]
    },
    {
      "metadata": {},
      "cell_type": "markdown",
      "source": "### escritura"
    },
    {
      "metadata": {
        "trusted": false
      },
      "cell_type": "code",
      "source": "import csv",
      "execution_count": 1,
      "outputs": []
    },
    {
      "metadata": {
        "trusted": false
      },
      "cell_type": "code",
      "source": "with open('otro_archivo_csv.csv', 'w') as f:\n    writer = csv.writer(f, delimiter=',')\n    empleados = [\n        ['juan', 'perez', 'medico', 21],\n        ['pepe', 'alfaro', 'abogado', 31],\n    ]\n    for empleado in empleados: \n        writer.writerow(empleado)",
      "execution_count": 86,
      "outputs": []
    },
    {
      "metadata": {
        "trusted": false
      },
      "cell_type": "code",
      "source": "",
      "execution_count": null,
      "outputs": []
    }
  ],
  "metadata": {
    "kernelspec": {
      "name": "python3",
      "display_name": "Python 3",
      "language": "python"
    },
    "language_info": {
      "mimetype": "text/x-python",
      "nbconvert_exporter": "python",
      "name": "python",
      "file_extension": ".py",
      "version": "3.5.4",
      "pygments_lexer": "ipython3",
      "codemirror_mode": {
        "version": 3,
        "name": "ipython"
      }
    }
  },
  "nbformat": 4,
  "nbformat_minor": 2
}