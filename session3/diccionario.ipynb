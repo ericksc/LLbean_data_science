{
  "cells": [
    {
      "metadata": {},
      "cell_type": "markdown",
      "source": "# Diccionario"
    },
    {
      "metadata": {
        "trusted": false
      },
      "cell_type": "code",
      "source": "mi_diccionario = { 'a' : 'Es la primera letra',\n                 'b' : 'Es la segunda letra'\n                 }",
      "execution_count": 1,
      "outputs": []
    },
    {
      "metadata": {
        "trusted": false
      },
      "cell_type": "code",
      "source": "type(mi_diccionario)",
      "execution_count": 2,
      "outputs": [
        {
          "data": {
            "text/plain": "dict"
          },
          "execution_count": 2,
          "metadata": {},
          "output_type": "execute_result"
        }
      ]
    },
    {
      "metadata": {
        "trusted": false
      },
      "cell_type": "code",
      "source": "mi_diccionario",
      "execution_count": 3,
      "outputs": [
        {
          "data": {
            "text/plain": "{'a': 'Es la primera letra', 'b': 'Es la segunda letra'}"
          },
          "execution_count": 3,
          "metadata": {},
          "output_type": "execute_result"
        }
      ]
    },
    {
      "metadata": {
        "trusted": false
      },
      "cell_type": "code",
      "source": "mi_diccionario['a']",
      "execution_count": 4,
      "outputs": [
        {
          "data": {
            "text/plain": "'Es la primera letra'"
          },
          "execution_count": 4,
          "metadata": {},
          "output_type": "execute_result"
        }
      ]
    },
    {
      "metadata": {
        "trusted": false
      },
      "cell_type": "code",
      "source": "mi_diccionario['b']",
      "execution_count": 5,
      "outputs": [
        {
          "data": {
            "text/plain": "'Es la segunda letra'"
          },
          "execution_count": 5,
          "metadata": {},
          "output_type": "execute_result"
        }
      ]
    },
    {
      "metadata": {
        "trusted": false
      },
      "cell_type": "code",
      "source": "# agenda telefonica",
      "execution_count": 6,
      "outputs": []
    },
    {
      "metadata": {
        "trusted": false
      },
      "cell_type": "code",
      "source": "agenda = {'anita': 78544517, 'pepe': 51547, 'chepe' : 911}",
      "execution_count": 7,
      "outputs": []
    },
    {
      "metadata": {
        "trusted": false
      },
      "cell_type": "code",
      "source": "agenda",
      "execution_count": 8,
      "outputs": [
        {
          "data": {
            "text/plain": "{'anita': 78544517, 'pepe': 51547, 'chepe': 911}"
          },
          "execution_count": 8,
          "metadata": {},
          "output_type": "execute_result"
        }
      ]
    },
    {
      "metadata": {
        "trusted": false
      },
      "cell_type": "code",
      "source": "agenda['chepe']",
      "execution_count": 9,
      "outputs": [
        {
          "data": {
            "text/plain": "911"
          },
          "execution_count": 9,
          "metadata": {},
          "output_type": "execute_result"
        }
      ]
    },
    {
      "metadata": {
        "trusted": false
      },
      "cell_type": "code",
      "source": "agenda['pepe']",
      "execution_count": 10,
      "outputs": [
        {
          "data": {
            "text/plain": "51547"
          },
          "execution_count": 10,
          "metadata": {},
          "output_type": "execute_result"
        }
      ]
    },
    {
      "metadata": {
        "trusted": false
      },
      "cell_type": "code",
      "source": "agenda['chepe'] = 562652635",
      "execution_count": 11,
      "outputs": []
    },
    {
      "metadata": {
        "trusted": false
      },
      "cell_type": "code",
      "source": "agenda",
      "execution_count": 12,
      "outputs": [
        {
          "data": {
            "text/plain": "{'anita': 78544517, 'pepe': 51547, 'chepe': 562652635}"
          },
          "execution_count": 12,
          "metadata": {},
          "output_type": "execute_result"
        }
      ]
    },
    {
      "metadata": {
        "trusted": false
      },
      "cell_type": "code",
      "source": "# otro ejemplo",
      "execution_count": 13,
      "outputs": []
    },
    {
      "metadata": {
        "trusted": false
      },
      "cell_type": "code",
      "source": "mis_amigos = dict(jose='san jose', maria='cartago')",
      "execution_count": 14,
      "outputs": []
    },
    {
      "metadata": {
        "trusted": false
      },
      "cell_type": "code",
      "source": "mis_amigos",
      "execution_count": 15,
      "outputs": [
        {
          "data": {
            "text/plain": "{'jose': 'san jose', 'maria': 'cartago'}"
          },
          "execution_count": 15,
          "metadata": {},
          "output_type": "execute_result"
        }
      ]
    },
    {
      "metadata": {
        "trusted": false
      },
      "cell_type": "code",
      "source": "mis_amigos['maria']",
      "execution_count": 16,
      "outputs": [
        {
          "data": {
            "text/plain": "'cartago'"
          },
          "execution_count": 16,
          "metadata": {},
          "output_type": "execute_result"
        }
      ]
    },
    {
      "metadata": {
        "trusted": false
      },
      "cell_type": "code",
      "source": "# agregar mas datos",
      "execution_count": 17,
      "outputs": []
    },
    {
      "metadata": {
        "trusted": false
      },
      "cell_type": "code",
      "source": "mis_amigos.update({'juan': 'heredia'})",
      "execution_count": 18,
      "outputs": []
    },
    {
      "metadata": {
        "trusted": false
      },
      "cell_type": "code",
      "source": "mis_amigos",
      "execution_count": 19,
      "outputs": [
        {
          "data": {
            "text/plain": "{'jose': 'san jose', 'maria': 'cartago', 'juan': 'heredia'}"
          },
          "execution_count": 19,
          "metadata": {},
          "output_type": "execute_result"
        }
      ]
    },
    {
      "metadata": {
        "trusted": false
      },
      "cell_type": "code",
      "source": "# agenda de emails",
      "execution_count": 20,
      "outputs": []
    },
    {
      "metadata": {
        "trusted": false
      },
      "cell_type": "code",
      "source": "emails =  {'juanito': 'j@j.com',\n          'sarita' : 's@s.com',\n           'carlitos' : 'c@c.com'\n          }",
      "execution_count": 21,
      "outputs": []
    },
    {
      "metadata": {
        "trusted": false
      },
      "cell_type": "code",
      "source": "emails",
      "execution_count": 22,
      "outputs": [
        {
          "data": {
            "text/plain": "{'juanito': 'j@j.com', 'sarita': 's@s.com', 'carlitos': 'c@c.com'}"
          },
          "execution_count": 22,
          "metadata": {},
          "output_type": "execute_result"
        }
      ]
    },
    {
      "metadata": {
        "trusted": false
      },
      "cell_type": "code",
      "source": "#agregar",
      "execution_count": 23,
      "outputs": []
    },
    {
      "metadata": {
        "trusted": false
      },
      "cell_type": "code",
      "source": "emails.update({'sofia': 'so@so.com'})",
      "execution_count": 24,
      "outputs": []
    },
    {
      "metadata": {
        "trusted": false
      },
      "cell_type": "code",
      "source": "emails",
      "execution_count": 25,
      "outputs": [
        {
          "data": {
            "text/plain": "{'juanito': 'j@j.com',\n 'sarita': 's@s.com',\n 'carlitos': 'c@c.com',\n 'sofia': 'so@so.com'}"
          },
          "execution_count": 25,
          "metadata": {},
          "output_type": "execute_result"
        }
      ]
    },
    {
      "metadata": {
        "trusted": false
      },
      "cell_type": "code",
      "source": "emails['jose'] = 'jose@jose.com'",
      "execution_count": 27,
      "outputs": []
    },
    {
      "metadata": {
        "trusted": false
      },
      "cell_type": "code",
      "source": "emails",
      "execution_count": 28,
      "outputs": [
        {
          "data": {
            "text/plain": "{'juanito': 'j@j.com',\n 'sarita': 's@s.com',\n 'carlitos': 'c@c.com',\n 'sofia': 'so@so.com',\n 'jose': 'jose@jose.com'}"
          },
          "execution_count": 28,
          "metadata": {},
          "output_type": "execute_result"
        }
      ]
    },
    {
      "metadata": {
        "trusted": false
      },
      "cell_type": "code",
      "source": "# borrar\ndel emails['jose']",
      "execution_count": 29,
      "outputs": []
    },
    {
      "metadata": {
        "trusted": false
      },
      "cell_type": "code",
      "source": "emails",
      "execution_count": 30,
      "outputs": [
        {
          "data": {
            "text/plain": "{'juanito': 'j@j.com',\n 'sarita': 's@s.com',\n 'carlitos': 'c@c.com',\n 'sofia': 'so@so.com'}"
          },
          "execution_count": 30,
          "metadata": {},
          "output_type": "execute_result"
        }
      ]
    },
    {
      "metadata": {
        "trusted": false
      },
      "cell_type": "code",
      "source": "emails['jose']",
      "execution_count": 31,
      "outputs": [
        {
          "ename": "KeyError",
          "evalue": "'jose'",
          "output_type": "error",
          "traceback": [
            "\u001b[1;31m---------------------------------------------------------------------------\u001b[0m",
            "\u001b[1;31mKeyError\u001b[0m                                  Traceback (most recent call last)",
            "\u001b[1;32m<ipython-input-31-3aa1f202f7b3>\u001b[0m in \u001b[0;36m<module>\u001b[1;34m()\u001b[0m\n\u001b[1;32m----> 1\u001b[1;33m \u001b[0memails\u001b[0m\u001b[1;33m[\u001b[0m\u001b[1;34m'jose'\u001b[0m\u001b[1;33m]\u001b[0m\u001b[1;33m\u001b[0m\u001b[0m\n\u001b[0m",
            "\u001b[1;31mKeyError\u001b[0m: 'jose'"
          ]
        }
      ]
    },
    {
      "metadata": {
        "trusted": false
      },
      "cell_type": "code",
      "source": "emails",
      "execution_count": 32,
      "outputs": [
        {
          "data": {
            "text/plain": "{'juanito': 'j@j.com',\n 'sarita': 's@s.com',\n 'carlitos': 'c@c.com',\n 'sofia': 'so@so.com'}"
          },
          "execution_count": 32,
          "metadata": {},
          "output_type": "execute_result"
        }
      ]
    },
    {
      "metadata": {
        "trusted": false
      },
      "cell_type": "code",
      "source": "list(emails.keys())",
      "execution_count": 34,
      "outputs": [
        {
          "data": {
            "text/plain": "['juanito', 'sarita', 'carlitos', 'sofia']"
          },
          "execution_count": 34,
          "metadata": {},
          "output_type": "execute_result"
        }
      ]
    },
    {
      "metadata": {
        "trusted": false
      },
      "cell_type": "code",
      "source": "list(emails.values())",
      "execution_count": 36,
      "outputs": [
        {
          "data": {
            "text/plain": "['j@j.com', 's@s.com', 'c@c.com', 'so@so.com']"
          },
          "execution_count": 36,
          "metadata": {},
          "output_type": "execute_result"
        }
      ]
    },
    {
      "metadata": {
        "trusted": false
      },
      "cell_type": "code",
      "source": "list(emails.items())",
      "execution_count": 38,
      "outputs": [
        {
          "data": {
            "text/plain": "[('juanito', 'j@j.com'),\n ('sarita', 's@s.com'),\n ('carlitos', 'c@c.com'),\n ('sofia', 'so@so.com')]"
          },
          "execution_count": 38,
          "metadata": {},
          "output_type": "execute_result"
        }
      ]
    },
    {
      "metadata": {
        "trusted": false
      },
      "cell_type": "code",
      "source": "'maria' in emails",
      "execution_count": 39,
      "outputs": [
        {
          "data": {
            "text/plain": "False"
          },
          "execution_count": 39,
          "metadata": {},
          "output_type": "execute_result"
        }
      ]
    },
    {
      "metadata": {
        "trusted": false
      },
      "cell_type": "code",
      "source": "# condiciones control de flujo",
      "execution_count": 40,
      "outputs": []
    },
    {
      "metadata": {
        "trusted": false
      },
      "cell_type": "code",
      "source": "if 'maria' in emails:\n    print('Maria esta en el diccionario')\nelse:\n    print('Maria no esta! :( ')",
      "execution_count": 41,
      "outputs": [
        {
          "name": "stdout",
          "output_type": "stream",
          "text": "Maria no esta! :( \n"
        }
      ]
    },
    {
      "metadata": {
        "trusted": false
      },
      "cell_type": "code",
      "source": "if 'carlitos' in emails:\n    print('carlitos esta en el diccionario')\n    \nelse:\n    print('carlitos no esta!')\n    emails['carlitos'] = 'cc@cc.com'",
      "execution_count": 42,
      "outputs": [
        {
          "name": "stdout",
          "output_type": "stream",
          "text": "carlitos esta en el diccionario\n"
        }
      ]
    },
    {
      "metadata": {
        "trusted": false
      },
      "cell_type": "code",
      "source": "# practica",
      "execution_count": 43,
      "outputs": []
    },
    {
      "metadata": {
        "trusted": false
      },
      "cell_type": "code",
      "source": "emails",
      "execution_count": 44,
      "outputs": [
        {
          "data": {
            "text/plain": "{'juanito': 'j@j.com',\n 'sarita': 's@s.com',\n 'carlitos': 'c@c.com',\n 'sofia': 'so@so.com'}"
          },
          "execution_count": 44,
          "metadata": {},
          "output_type": "execute_result"
        }
      ]
    },
    {
      "metadata": {
        "trusted": false
      },
      "cell_type": "code",
      "source": "# 1",
      "execution_count": 45,
      "outputs": []
    },
    {
      "metadata": {
        "trusted": false
      },
      "cell_type": "code",
      "source": "for nombre in emails.keys():\n    print(nombre + ' tiene el correo:' + emails[nombre])",
      "execution_count": 50,
      "outputs": [
        {
          "name": "stdout",
          "output_type": "stream",
          "text": "juanito tiene el correo:j@j.com\nsarita tiene el correo:s@s.com\ncarlitos tiene el correo:c@c.com\nsofia tiene el correo:so@so.com\n"
        }
      ]
    },
    {
      "metadata": {
        "trusted": false
      },
      "cell_type": "code",
      "source": "# 2",
      "execution_count": 51,
      "outputs": []
    },
    {
      "metadata": {
        "trusted": false
      },
      "cell_type": "code",
      "source": "for elemento in emails.items():\n    print(elemento[0] + ' tiene el correo:' + elemento[1])",
      "execution_count": 55,
      "outputs": [
        {
          "name": "stdout",
          "output_type": "stream",
          "text": "juanito tiene el correo:j@j.com\nsarita tiene el correo:s@s.com\ncarlitos tiene el correo:c@c.com\nsofia tiene el correo:so@so.com\n"
        }
      ]
    },
    {
      "metadata": {
        "trusted": false
      },
      "cell_type": "code",
      "source": "# 3",
      "execution_count": 56,
      "outputs": []
    },
    {
      "metadata": {
        "trusted": false
      },
      "cell_type": "code",
      "source": "for nombre, correo in emails.items():\n    print(nombre + ' tiene el correo:' + correo)",
      "execution_count": 57,
      "outputs": [
        {
          "name": "stdout",
          "output_type": "stream",
          "text": "juanito tiene el correo:j@j.com\nsarita tiene el correo:s@s.com\ncarlitos tiene el correo:c@c.com\nsofia tiene el correo:so@so.com\n"
        }
      ]
    },
    {
      "metadata": {
        "trusted": false
      },
      "cell_type": "code",
      "source": "#4",
      "execution_count": 58,
      "outputs": []
    },
    {
      "metadata": {
        "trusted": false
      },
      "cell_type": "code",
      "source": "for numero , elemento in enumerate(emails.items()):\n    print('la persona', numero, 'es' , elemento[0], ' tiene el correo:' , elemento[1])",
      "execution_count": 65,
      "outputs": [
        {
          "name": "stdout",
          "output_type": "stream",
          "text": "la persona 0 es juanito  tiene el correo: j@j.com\nla persona 1 es sarita  tiene el correo: s@s.com\nla persona 2 es carlitos  tiene el correo: c@c.com\nla persona 3 es sofia  tiene el correo: so@so.com\n"
        }
      ]
    },
    {
      "metadata": {
        "trusted": false
      },
      "cell_type": "code",
      "source": "# 6",
      "execution_count": 76,
      "outputs": []
    },
    {
      "metadata": {
        "trusted": false
      },
      "cell_type": "code",
      "source": "for numero , (nombre, correo) in enumerate(emails.items()):\n    print('la persona', numero, 'es' , nombre, ' tiene el correo:' , correo)",
      "execution_count": 77,
      "outputs": [
        {
          "name": "stdout",
          "output_type": "stream",
          "text": "la persona 0 es juanito  tiene el correo: j@j.com\nla persona 1 es sarita  tiene el correo: s@s.com\nla persona 2 es carlitos  tiene el correo: c@c.com\nla persona 3 es sofia  tiene el correo: so@so.com\n"
        }
      ]
    },
    {
      "metadata": {
        "trusted": false
      },
      "cell_type": "code",
      "source": "# comprension de listas",
      "execution_count": 66,
      "outputs": []
    },
    {
      "metadata": {
        "trusted": false
      },
      "cell_type": "code",
      "source": "mi_lista = [1,2,3,4,5]",
      "execution_count": 67,
      "outputs": []
    },
    {
      "metadata": {
        "trusted": false
      },
      "cell_type": "code",
      "source": "a = [print(elemento) for elemento in mi_lista]",
      "execution_count": 72,
      "outputs": [
        {
          "name": "stdout",
          "output_type": "stream",
          "text": "1\n2\n3\n4\n5\n"
        }
      ]
    },
    {
      "metadata": {
        "trusted": false
      },
      "cell_type": "code",
      "source": "[nombre + ' tiene el correo:' + correo for nombre, correo in emails.items()]",
      "execution_count": 75,
      "outputs": [
        {
          "data": {
            "text/plain": "['juanito tiene el correo:j@j.com',\n 'sarita tiene el correo:s@s.com',\n 'carlitos tiene el correo:c@c.com',\n 'sofia tiene el correo:so@so.com']"
          },
          "execution_count": 75,
          "metadata": {},
          "output_type": "execute_result"
        }
      ]
    },
    {
      "metadata": {
        "trusted": false
      },
      "cell_type": "code",
      "source": "",
      "execution_count": null,
      "outputs": []
    }
  ],
  "metadata": {
    "kernelspec": {
      "name": "python3",
      "display_name": "Python 3",
      "language": "python"
    },
    "language_info": {
      "mimetype": "text/x-python",
      "nbconvert_exporter": "python",
      "name": "python",
      "pygments_lexer": "ipython3",
      "version": "3.5.4",
      "file_extension": ".py",
      "codemirror_mode": {
        "version": 3,
        "name": "ipython"
      }
    }
  },
  "nbformat": 4,
  "nbformat_minor": 2
}