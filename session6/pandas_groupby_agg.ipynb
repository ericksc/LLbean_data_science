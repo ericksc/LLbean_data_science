{
  "cells": [
    {
      "metadata": {
        "trusted": true
      },
      "cell_type": "code",
      "source": "import pandas as pd",
      "execution_count": 1,
      "outputs": []
    },
    {
      "metadata": {
        "trusted": true
      },
      "cell_type": "code",
      "source": "df = pd.read_excel(\"https://github.com/chris1610/pbpython/blob/master/data/sample-salesv3.xlsx?raw=True\")\n",
      "execution_count": 3,
      "outputs": []
    },
    {
      "metadata": {
        "trusted": true
      },
      "cell_type": "code",
      "source": "df.shape",
      "execution_count": 5,
      "outputs": [
        {
          "output_type": "execute_result",
          "execution_count": 5,
          "data": {
            "text/plain": "(1500, 7)"
          },
          "metadata": {}
        }
      ]
    },
    {
      "metadata": {
        "trusted": true
      },
      "cell_type": "code",
      "source": "df.columns",
      "execution_count": 6,
      "outputs": [
        {
          "output_type": "execute_result",
          "execution_count": 6,
          "data": {
            "text/plain": "Index(['account number', 'name', 'sku', 'quantity', 'unit price', 'ext price',\n       'date'],\n      dtype='object')"
          },
          "metadata": {}
        }
      ]
    },
    {
      "metadata": {
        "trusted": true
      },
      "cell_type": "code",
      "source": "df.dtypes",
      "execution_count": 8,
      "outputs": [
        {
          "output_type": "execute_result",
          "execution_count": 8,
          "data": {
            "text/plain": "account number      int64\nname               object\nsku                object\nquantity            int64\nunit price        float64\next price         float64\ndate               object\ndtype: object"
          },
          "metadata": {}
        }
      ]
    },
    {
      "metadata": {
        "trusted": true
      },
      "cell_type": "code",
      "source": "df[\"date\"] = pd.to_datetime(df['date'])\ndf.head()",
      "execution_count": 9,
      "outputs": [
        {
          "output_type": "execute_result",
          "execution_count": 9,
          "data": {
            "text/html": "<div>\n<style scoped>\n    .dataframe tbody tr th:only-of-type {\n        vertical-align: middle;\n    }\n\n    .dataframe tbody tr th {\n        vertical-align: top;\n    }\n\n    .dataframe thead th {\n        text-align: right;\n    }\n</style>\n<table border=\"1\" class=\"dataframe\">\n  <thead>\n    <tr style=\"text-align: right;\">\n      <th></th>\n      <th>account number</th>\n      <th>name</th>\n      <th>sku</th>\n      <th>quantity</th>\n      <th>unit price</th>\n      <th>ext price</th>\n      <th>date</th>\n    </tr>\n  </thead>\n  <tbody>\n    <tr>\n      <th>0</th>\n      <td>740150</td>\n      <td>Barton LLC</td>\n      <td>B1-20000</td>\n      <td>39</td>\n      <td>86.69</td>\n      <td>3380.91</td>\n      <td>2014-01-01 07:21:51</td>\n    </tr>\n    <tr>\n      <th>1</th>\n      <td>714466</td>\n      <td>Trantow-Barrows</td>\n      <td>S2-77896</td>\n      <td>-1</td>\n      <td>63.16</td>\n      <td>-63.16</td>\n      <td>2014-01-01 10:00:47</td>\n    </tr>\n    <tr>\n      <th>2</th>\n      <td>218895</td>\n      <td>Kulas Inc</td>\n      <td>B1-69924</td>\n      <td>23</td>\n      <td>90.70</td>\n      <td>2086.10</td>\n      <td>2014-01-01 13:24:58</td>\n    </tr>\n    <tr>\n      <th>3</th>\n      <td>307599</td>\n      <td>Kassulke, Ondricka and Metz</td>\n      <td>S1-65481</td>\n      <td>41</td>\n      <td>21.05</td>\n      <td>863.05</td>\n      <td>2014-01-01 15:05:22</td>\n    </tr>\n    <tr>\n      <th>4</th>\n      <td>412290</td>\n      <td>Jerde-Hilpert</td>\n      <td>S2-34077</td>\n      <td>6</td>\n      <td>83.21</td>\n      <td>499.26</td>\n      <td>2014-01-01 23:26:55</td>\n    </tr>\n  </tbody>\n</table>\n</div>",
            "text/plain": "   account number                         name       sku  quantity  \\\n0          740150                   Barton LLC  B1-20000        39   \n1          714466              Trantow-Barrows  S2-77896        -1   \n2          218895                    Kulas Inc  B1-69924        23   \n3          307599  Kassulke, Ondricka and Metz  S1-65481        41   \n4          412290                Jerde-Hilpert  S2-34077         6   \n\n   unit price  ext price                date  \n0       86.69    3380.91 2014-01-01 07:21:51  \n1       63.16     -63.16 2014-01-01 10:00:47  \n2       90.70    2086.10 2014-01-01 13:24:58  \n3       21.05     863.05 2014-01-01 15:05:22  \n4       83.21     499.26 2014-01-01 23:26:55  "
          },
          "metadata": {}
        }
      ]
    },
    {
      "metadata": {
        "trusted": true
      },
      "cell_type": "code",
      "source": "df.dtypes",
      "execution_count": 10,
      "outputs": [
        {
          "output_type": "execute_result",
          "execution_count": 10,
          "data": {
            "text/plain": "account number             int64\nname                      object\nsku                       object\nquantity                   int64\nunit price               float64\next price                float64\ndate              datetime64[ns]\ndtype: object"
          },
          "metadata": {}
        }
      ]
    },
    {
      "metadata": {
        "trusted": true
      },
      "cell_type": "code",
      "source": "df.head()",
      "execution_count": 12,
      "outputs": [
        {
          "output_type": "execute_result",
          "execution_count": 12,
          "data": {
            "text/html": "<div>\n<style scoped>\n    .dataframe tbody tr th:only-of-type {\n        vertical-align: middle;\n    }\n\n    .dataframe tbody tr th {\n        vertical-align: top;\n    }\n\n    .dataframe thead th {\n        text-align: right;\n    }\n</style>\n<table border=\"1\" class=\"dataframe\">\n  <thead>\n    <tr style=\"text-align: right;\">\n      <th></th>\n      <th>account number</th>\n      <th>name</th>\n      <th>sku</th>\n      <th>quantity</th>\n      <th>unit price</th>\n      <th>ext price</th>\n      <th>date</th>\n    </tr>\n  </thead>\n  <tbody>\n    <tr>\n      <th>0</th>\n      <td>740150</td>\n      <td>Barton LLC</td>\n      <td>B1-20000</td>\n      <td>39</td>\n      <td>86.69</td>\n      <td>3380.91</td>\n      <td>2014-01-01 07:21:51</td>\n    </tr>\n    <tr>\n      <th>1</th>\n      <td>714466</td>\n      <td>Trantow-Barrows</td>\n      <td>S2-77896</td>\n      <td>-1</td>\n      <td>63.16</td>\n      <td>-63.16</td>\n      <td>2014-01-01 10:00:47</td>\n    </tr>\n    <tr>\n      <th>2</th>\n      <td>218895</td>\n      <td>Kulas Inc</td>\n      <td>B1-69924</td>\n      <td>23</td>\n      <td>90.70</td>\n      <td>2086.10</td>\n      <td>2014-01-01 13:24:58</td>\n    </tr>\n    <tr>\n      <th>3</th>\n      <td>307599</td>\n      <td>Kassulke, Ondricka and Metz</td>\n      <td>S1-65481</td>\n      <td>41</td>\n      <td>21.05</td>\n      <td>863.05</td>\n      <td>2014-01-01 15:05:22</td>\n    </tr>\n    <tr>\n      <th>4</th>\n      <td>412290</td>\n      <td>Jerde-Hilpert</td>\n      <td>S2-34077</td>\n      <td>6</td>\n      <td>83.21</td>\n      <td>499.26</td>\n      <td>2014-01-01 23:26:55</td>\n    </tr>\n  </tbody>\n</table>\n</div>",
            "text/plain": "   account number                         name       sku  quantity  \\\n0          740150                   Barton LLC  B1-20000        39   \n1          714466              Trantow-Barrows  S2-77896        -1   \n2          218895                    Kulas Inc  B1-69924        23   \n3          307599  Kassulke, Ondricka and Metz  S1-65481        41   \n4          412290                Jerde-Hilpert  S2-34077         6   \n\n   unit price  ext price                date  \n0       86.69    3380.91 2014-01-01 07:21:51  \n1       63.16     -63.16 2014-01-01 10:00:47  \n2       90.70    2086.10 2014-01-01 13:24:58  \n3       21.05     863.05 2014-01-01 15:05:22  \n4       83.21     499.26 2014-01-01 23:26:55  "
          },
          "metadata": {}
        }
      ]
    },
    {
      "metadata": {
        "trusted": true
      },
      "cell_type": "code",
      "source": "df.set_index('date')",
      "execution_count": 13,
      "outputs": [
        {
          "output_type": "execute_result",
          "execution_count": 13,
          "data": {
            "text/html": "<div>\n<style scoped>\n    .dataframe tbody tr th:only-of-type {\n        vertical-align: middle;\n    }\n\n    .dataframe tbody tr th {\n        vertical-align: top;\n    }\n\n    .dataframe thead th {\n        text-align: right;\n    }\n</style>\n<table border=\"1\" class=\"dataframe\">\n  <thead>\n    <tr style=\"text-align: right;\">\n      <th></th>\n      <th>account number</th>\n      <th>name</th>\n      <th>sku</th>\n      <th>quantity</th>\n      <th>unit price</th>\n      <th>ext price</th>\n    </tr>\n    <tr>\n      <th>date</th>\n      <th></th>\n      <th></th>\n      <th></th>\n      <th></th>\n      <th></th>\n      <th></th>\n    </tr>\n  </thead>\n  <tbody>\n    <tr>\n      <th>2014-01-01 07:21:51</th>\n      <td>740150</td>\n      <td>Barton LLC</td>\n      <td>B1-20000</td>\n      <td>39</td>\n      <td>86.69</td>\n      <td>3380.91</td>\n    </tr>\n    <tr>\n      <th>2014-01-01 10:00:47</th>\n      <td>714466</td>\n      <td>Trantow-Barrows</td>\n      <td>S2-77896</td>\n      <td>-1</td>\n      <td>63.16</td>\n      <td>-63.16</td>\n    </tr>\n    <tr>\n      <th>2014-01-01 13:24:58</th>\n      <td>218895</td>\n      <td>Kulas Inc</td>\n      <td>B1-69924</td>\n      <td>23</td>\n      <td>90.70</td>\n      <td>2086.10</td>\n    </tr>\n    <tr>\n      <th>2014-01-01 15:05:22</th>\n      <td>307599</td>\n      <td>Kassulke, Ondricka and Metz</td>\n      <td>S1-65481</td>\n      <td>41</td>\n      <td>21.05</td>\n      <td>863.05</td>\n    </tr>\n    <tr>\n      <th>2014-01-01 23:26:55</th>\n      <td>412290</td>\n      <td>Jerde-Hilpert</td>\n      <td>S2-34077</td>\n      <td>6</td>\n      <td>83.21</td>\n      <td>499.26</td>\n    </tr>\n    <tr>\n      <th>2014-01-02 10:07:15</th>\n      <td>714466</td>\n      <td>Trantow-Barrows</td>\n      <td>S2-77896</td>\n      <td>17</td>\n      <td>87.63</td>\n      <td>1489.71</td>\n    </tr>\n    <tr>\n      <th>2014-01-02 10:57:23</th>\n      <td>218895</td>\n      <td>Kulas Inc</td>\n      <td>B1-65551</td>\n      <td>2</td>\n      <td>31.10</td>\n      <td>62.20</td>\n    </tr>\n    <tr>\n      <th>2014-01-03 06:32:11</th>\n      <td>729833</td>\n      <td>Koepp Ltd</td>\n      <td>S1-30248</td>\n      <td>8</td>\n      <td>33.25</td>\n      <td>266.00</td>\n    </tr>\n    <tr>\n      <th>2014-01-03 11:29:02</th>\n      <td>714466</td>\n      <td>Trantow-Barrows</td>\n      <td>S1-50961</td>\n      <td>22</td>\n      <td>84.09</td>\n      <td>1849.98</td>\n    </tr>\n    <tr>\n      <th>2014-01-03 19:07:37</th>\n      <td>737550</td>\n      <td>Fritsch, Russel and Anderson</td>\n      <td>S2-82423</td>\n      <td>14</td>\n      <td>81.92</td>\n      <td>1146.88</td>\n    </tr>\n    <tr>\n      <th>2014-01-03 19:39:53</th>\n      <td>146832</td>\n      <td>Kiehn-Spinka</td>\n      <td>S2-82423</td>\n      <td>15</td>\n      <td>67.74</td>\n      <td>1016.10</td>\n    </tr>\n    <tr>\n      <th>2014-01-04 00:02:36</th>\n      <td>688981</td>\n      <td>Keeling LLC</td>\n      <td>S2-00301</td>\n      <td>7</td>\n      <td>20.26</td>\n      <td>141.82</td>\n    </tr>\n    <tr>\n      <th>2014-01-04 06:51:53</th>\n      <td>786968</td>\n      <td>Frami, Hills and Schmidt</td>\n      <td>S2-23246</td>\n      <td>6</td>\n      <td>61.31</td>\n      <td>367.86</td>\n    </tr>\n    <tr>\n      <th>2014-01-04 07:53:01</th>\n      <td>307599</td>\n      <td>Kassulke, Ondricka and Metz</td>\n      <td>S2-10342</td>\n      <td>17</td>\n      <td>12.44</td>\n      <td>211.48</td>\n    </tr>\n    <tr>\n      <th>2014-01-04 08:57:48</th>\n      <td>737550</td>\n      <td>Fritsch, Russel and Anderson</td>\n      <td>B1-53102</td>\n      <td>23</td>\n      <td>71.56</td>\n      <td>1645.88</td>\n    </tr>\n    <tr>\n      <th>2014-01-04 11:34:58</th>\n      <td>239344</td>\n      <td>Stokes LLC</td>\n      <td>S1-06532</td>\n      <td>34</td>\n      <td>71.51</td>\n      <td>2431.34</td>\n    </tr>\n    <tr>\n      <th>2014-01-04 19:59:02</th>\n      <td>672390</td>\n      <td>Kuhn-Gusikowski</td>\n      <td>S1-30248</td>\n      <td>14</td>\n      <td>72.75</td>\n      <td>1018.50</td>\n    </tr>\n    <tr>\n      <th>2014-01-04 22:14:32</th>\n      <td>239344</td>\n      <td>Stokes LLC</td>\n      <td>B1-50809</td>\n      <td>14</td>\n      <td>16.23</td>\n      <td>227.22</td>\n    </tr>\n    <tr>\n      <th>2014-01-05 15:12:16</th>\n      <td>141962</td>\n      <td>Herman LLC</td>\n      <td>S1-82801</td>\n      <td>10</td>\n      <td>94.30</td>\n      <td>943.00</td>\n    </tr>\n    <tr>\n      <th>2014-01-05 22:39:21</th>\n      <td>412290</td>\n      <td>Jerde-Hilpert</td>\n      <td>S2-00301</td>\n      <td>33</td>\n      <td>31.18</td>\n      <td>1028.94</td>\n    </tr>\n    <tr>\n      <th>2014-01-06 08:20:27</th>\n      <td>424914</td>\n      <td>White-Trantow</td>\n      <td>S2-00301</td>\n      <td>45</td>\n      <td>96.95</td>\n      <td>4362.75</td>\n    </tr>\n    <tr>\n      <th>2014-01-06 14:14:00</th>\n      <td>527099</td>\n      <td>Sanford and Sons</td>\n      <td>S1-30248</td>\n      <td>24</td>\n      <td>50.29</td>\n      <td>1206.96</td>\n    </tr>\n    <tr>\n      <th>2014-01-06 15:53:49</th>\n      <td>786968</td>\n      <td>Frami, Hills and Schmidt</td>\n      <td>B1-04202</td>\n      <td>2</td>\n      <td>52.41</td>\n      <td>104.82</td>\n    </tr>\n    <tr>\n      <th>2014-01-06 18:27:28</th>\n      <td>714466</td>\n      <td>Trantow-Barrows</td>\n      <td>S1-30248</td>\n      <td>-1</td>\n      <td>16.97</td>\n      <td>-16.97</td>\n    </tr>\n    <tr>\n      <th>2014-01-06 23:38:31</th>\n      <td>786968</td>\n      <td>Frami, Hills and Schmidt</td>\n      <td>S2-83881</td>\n      <td>34</td>\n      <td>60.41</td>\n      <td>2053.94</td>\n    </tr>\n    <tr>\n      <th>2014-01-07 00:29:41</th>\n      <td>729833</td>\n      <td>Koepp Ltd</td>\n      <td>S2-78676</td>\n      <td>5</td>\n      <td>14.75</td>\n      <td>73.75</td>\n    </tr>\n    <tr>\n      <th>2014-01-08 00:02:11</th>\n      <td>737550</td>\n      <td>Fritsch, Russel and Anderson</td>\n      <td>B1-53636</td>\n      <td>42</td>\n      <td>42.06</td>\n      <td>1766.52</td>\n    </tr>\n    <tr>\n      <th>2014-01-08 10:00:08</th>\n      <td>672390</td>\n      <td>Kuhn-Gusikowski</td>\n      <td>S2-83881</td>\n      <td>42</td>\n      <td>63.87</td>\n      <td>2682.54</td>\n    </tr>\n    <tr>\n      <th>2014-01-08 11:50:18</th>\n      <td>714466</td>\n      <td>Trantow-Barrows</td>\n      <td>B1-38851</td>\n      <td>4</td>\n      <td>60.04</td>\n      <td>240.16</td>\n    </tr>\n    <tr>\n      <th>2014-01-08 17:46:40</th>\n      <td>729833</td>\n      <td>Koepp Ltd</td>\n      <td>B1-86481</td>\n      <td>6</td>\n      <td>81.79</td>\n      <td>490.74</td>\n    </tr>\n    <tr>\n      <th>...</th>\n      <td>...</td>\n      <td>...</td>\n      <td>...</td>\n      <td>...</td>\n      <td>...</td>\n      <td>...</td>\n    </tr>\n    <tr>\n      <th>2014-12-23 08:29:30</th>\n      <td>218895</td>\n      <td>Kulas Inc</td>\n      <td>S2-00301</td>\n      <td>-1</td>\n      <td>63.08</td>\n      <td>-63.08</td>\n    </tr>\n    <tr>\n      <th>2014-12-23 08:44:32</th>\n      <td>218895</td>\n      <td>Kulas Inc</td>\n      <td>S2-00301</td>\n      <td>9</td>\n      <td>40.83</td>\n      <td>367.47</td>\n    </tr>\n    <tr>\n      <th>2014-12-24 07:10:32</th>\n      <td>786968</td>\n      <td>Frami, Hills and Schmidt</td>\n      <td>S1-30248</td>\n      <td>48</td>\n      <td>33.79</td>\n      <td>1621.92</td>\n    </tr>\n    <tr>\n      <th>2014-12-24 07:16:26</th>\n      <td>740150</td>\n      <td>Barton LLC</td>\n      <td>B1-53102</td>\n      <td>3</td>\n      <td>54.07</td>\n      <td>162.21</td>\n    </tr>\n    <tr>\n      <th>2014-12-24 09:50:26</th>\n      <td>729833</td>\n      <td>Koepp Ltd</td>\n      <td>B1-86481</td>\n      <td>43</td>\n      <td>26.47</td>\n      <td>1138.21</td>\n    </tr>\n    <tr>\n      <th>2014-12-24 18:04:20</th>\n      <td>239344</td>\n      <td>Stokes LLC</td>\n      <td>B1-05914</td>\n      <td>46</td>\n      <td>82.07</td>\n      <td>3775.22</td>\n    </tr>\n    <tr>\n      <th>2014-12-24 19:33:58</th>\n      <td>729833</td>\n      <td>Koepp Ltd</td>\n      <td>S1-50961</td>\n      <td>24</td>\n      <td>13.00</td>\n      <td>312.00</td>\n    </tr>\n    <tr>\n      <th>2014-12-24 22:54:28</th>\n      <td>141962</td>\n      <td>Herman LLC</td>\n      <td>B1-05914</td>\n      <td>7</td>\n      <td>32.00</td>\n      <td>224.00</td>\n    </tr>\n    <tr>\n      <th>2014-12-25 00:04:04</th>\n      <td>307599</td>\n      <td>Kassulke, Ondricka and Metz</td>\n      <td>S1-50961</td>\n      <td>9</td>\n      <td>96.54</td>\n      <td>868.86</td>\n    </tr>\n    <tr>\n      <th>2014-12-25 01:22:00</th>\n      <td>163416</td>\n      <td>Purdy-Kunde</td>\n      <td>S1-30248</td>\n      <td>42</td>\n      <td>43.69</td>\n      <td>1834.98</td>\n    </tr>\n    <tr>\n      <th>2014-12-25 03:48:04</th>\n      <td>146832</td>\n      <td>Kiehn-Spinka</td>\n      <td>S1-82801</td>\n      <td>26</td>\n      <td>85.59</td>\n      <td>2225.34</td>\n    </tr>\n    <tr>\n      <th>2014-12-25 06:14:53</th>\n      <td>163416</td>\n      <td>Purdy-Kunde</td>\n      <td>S2-77896</td>\n      <td>9</td>\n      <td>23.58</td>\n      <td>212.22</td>\n    </tr>\n    <tr>\n      <th>2014-12-26 06:53:40</th>\n      <td>672390</td>\n      <td>Kuhn-Gusikowski</td>\n      <td>S2-83881</td>\n      <td>11</td>\n      <td>50.25</td>\n      <td>552.75</td>\n    </tr>\n    <tr>\n      <th>2014-12-26 08:30:34</th>\n      <td>729833</td>\n      <td>Koepp Ltd</td>\n      <td>S1-47412</td>\n      <td>31</td>\n      <td>85.90</td>\n      <td>2662.90</td>\n    </tr>\n    <tr>\n      <th>2014-12-26 13:18:51</th>\n      <td>688981</td>\n      <td>Keeling LLC</td>\n      <td>S2-82423</td>\n      <td>15</td>\n      <td>56.64</td>\n      <td>849.60</td>\n    </tr>\n    <tr>\n      <th>2014-12-26 18:31:15</th>\n      <td>737550</td>\n      <td>Fritsch, Russel and Anderson</td>\n      <td>B1-04202</td>\n      <td>6</td>\n      <td>58.78</td>\n      <td>352.68</td>\n    </tr>\n    <tr>\n      <th>2014-12-27 07:14:09</th>\n      <td>424914</td>\n      <td>White-Trantow</td>\n      <td>S2-00301</td>\n      <td>-1</td>\n      <td>22.99</td>\n      <td>-22.99</td>\n    </tr>\n    <tr>\n      <th>2014-12-28 09:19:21</th>\n      <td>257198</td>\n      <td>Cronin, Oberbrunner and Spencer</td>\n      <td>S1-50961</td>\n      <td>5</td>\n      <td>89.19</td>\n      <td>445.95</td>\n    </tr>\n    <tr>\n      <th>2014-12-28 10:11:13</th>\n      <td>786968</td>\n      <td>Frami, Hills and Schmidt</td>\n      <td>S1-47412</td>\n      <td>39</td>\n      <td>49.46</td>\n      <td>1928.94</td>\n    </tr>\n    <tr>\n      <th>2014-12-28 13:21:03</th>\n      <td>239344</td>\n      <td>Stokes LLC</td>\n      <td>S1-93683</td>\n      <td>47</td>\n      <td>25.48</td>\n      <td>1197.56</td>\n    </tr>\n    <tr>\n      <th>2014-12-29 13:32:18</th>\n      <td>604255</td>\n      <td>Halvorson, Crona and Champlin</td>\n      <td>B1-86481</td>\n      <td>40</td>\n      <td>23.23</td>\n      <td>929.20</td>\n    </tr>\n    <tr>\n      <th>2014-12-29 14:23:37</th>\n      <td>257198</td>\n      <td>Cronin, Oberbrunner and Spencer</td>\n      <td>S2-77896</td>\n      <td>19</td>\n      <td>33.18</td>\n      <td>630.42</td>\n    </tr>\n    <tr>\n      <th>2014-12-29 17:43:04</th>\n      <td>714466</td>\n      <td>Trantow-Barrows</td>\n      <td>B1-53102</td>\n      <td>32</td>\n      <td>34.71</td>\n      <td>1110.72</td>\n    </tr>\n    <tr>\n      <th>2014-12-30 02:25:21</th>\n      <td>146832</td>\n      <td>Kiehn-Spinka</td>\n      <td>S1-50961</td>\n      <td>27</td>\n      <td>95.90</td>\n      <td>2589.30</td>\n    </tr>\n    <tr>\n      <th>2014-12-30 12:38:25</th>\n      <td>786968</td>\n      <td>Frami, Hills and Schmidt</td>\n      <td>B1-86481</td>\n      <td>8</td>\n      <td>74.01</td>\n      <td>592.08</td>\n    </tr>\n    <tr>\n      <th>2014-12-30 13:38:13</th>\n      <td>737550</td>\n      <td>Fritsch, Russel and Anderson</td>\n      <td>S1-06532</td>\n      <td>12</td>\n      <td>55.80</td>\n      <td>669.60</td>\n    </tr>\n    <tr>\n      <th>2014-12-30 21:42:17</th>\n      <td>786968</td>\n      <td>Frami, Hills and Schmidt</td>\n      <td>S1-06532</td>\n      <td>37</td>\n      <td>13.14</td>\n      <td>486.18</td>\n    </tr>\n    <tr>\n      <th>2014-12-30 22:45:19</th>\n      <td>239344</td>\n      <td>Stokes LLC</td>\n      <td>S2-10342</td>\n      <td>14</td>\n      <td>38.75</td>\n      <td>542.50</td>\n    </tr>\n    <tr>\n      <th>2014-12-31 10:36:24</th>\n      <td>642753</td>\n      <td>Pollich LLC</td>\n      <td>S2-82423</td>\n      <td>3</td>\n      <td>65.97</td>\n      <td>197.91</td>\n    </tr>\n    <tr>\n      <th>2014-12-31 12:48:35</th>\n      <td>383080</td>\n      <td>Will LLC</td>\n      <td>S2-00301</td>\n      <td>38</td>\n      <td>46.44</td>\n      <td>1764.72</td>\n    </tr>\n  </tbody>\n</table>\n<p>1500 rows × 6 columns</p>\n</div>",
            "text/plain": "                     account number                             name  \\\ndate                                                                   \n2014-01-01 07:21:51          740150                       Barton LLC   \n2014-01-01 10:00:47          714466                  Trantow-Barrows   \n2014-01-01 13:24:58          218895                        Kulas Inc   \n2014-01-01 15:05:22          307599      Kassulke, Ondricka and Metz   \n2014-01-01 23:26:55          412290                    Jerde-Hilpert   \n2014-01-02 10:07:15          714466                  Trantow-Barrows   \n2014-01-02 10:57:23          218895                        Kulas Inc   \n2014-01-03 06:32:11          729833                        Koepp Ltd   \n2014-01-03 11:29:02          714466                  Trantow-Barrows   \n2014-01-03 19:07:37          737550     Fritsch, Russel and Anderson   \n2014-01-03 19:39:53          146832                     Kiehn-Spinka   \n2014-01-04 00:02:36          688981                      Keeling LLC   \n2014-01-04 06:51:53          786968         Frami, Hills and Schmidt   \n2014-01-04 07:53:01          307599      Kassulke, Ondricka and Metz   \n2014-01-04 08:57:48          737550     Fritsch, Russel and Anderson   \n2014-01-04 11:34:58          239344                       Stokes LLC   \n2014-01-04 19:59:02          672390                  Kuhn-Gusikowski   \n2014-01-04 22:14:32          239344                       Stokes LLC   \n2014-01-05 15:12:16          141962                       Herman LLC   \n2014-01-05 22:39:21          412290                    Jerde-Hilpert   \n2014-01-06 08:20:27          424914                    White-Trantow   \n2014-01-06 14:14:00          527099                 Sanford and Sons   \n2014-01-06 15:53:49          786968         Frami, Hills and Schmidt   \n2014-01-06 18:27:28          714466                  Trantow-Barrows   \n2014-01-06 23:38:31          786968         Frami, Hills and Schmidt   \n2014-01-07 00:29:41          729833                        Koepp Ltd   \n2014-01-08 00:02:11          737550     Fritsch, Russel and Anderson   \n2014-01-08 10:00:08          672390                  Kuhn-Gusikowski   \n2014-01-08 11:50:18          714466                  Trantow-Barrows   \n2014-01-08 17:46:40          729833                        Koepp Ltd   \n...                             ...                              ...   \n2014-12-23 08:29:30          218895                        Kulas Inc   \n2014-12-23 08:44:32          218895                        Kulas Inc   \n2014-12-24 07:10:32          786968         Frami, Hills and Schmidt   \n2014-12-24 07:16:26          740150                       Barton LLC   \n2014-12-24 09:50:26          729833                        Koepp Ltd   \n2014-12-24 18:04:20          239344                       Stokes LLC   \n2014-12-24 19:33:58          729833                        Koepp Ltd   \n2014-12-24 22:54:28          141962                       Herman LLC   \n2014-12-25 00:04:04          307599      Kassulke, Ondricka and Metz   \n2014-12-25 01:22:00          163416                      Purdy-Kunde   \n2014-12-25 03:48:04          146832                     Kiehn-Spinka   \n2014-12-25 06:14:53          163416                      Purdy-Kunde   \n2014-12-26 06:53:40          672390                  Kuhn-Gusikowski   \n2014-12-26 08:30:34          729833                        Koepp Ltd   \n2014-12-26 13:18:51          688981                      Keeling LLC   \n2014-12-26 18:31:15          737550     Fritsch, Russel and Anderson   \n2014-12-27 07:14:09          424914                    White-Trantow   \n2014-12-28 09:19:21          257198  Cronin, Oberbrunner and Spencer   \n2014-12-28 10:11:13          786968         Frami, Hills and Schmidt   \n2014-12-28 13:21:03          239344                       Stokes LLC   \n2014-12-29 13:32:18          604255    Halvorson, Crona and Champlin   \n2014-12-29 14:23:37          257198  Cronin, Oberbrunner and Spencer   \n2014-12-29 17:43:04          714466                  Trantow-Barrows   \n2014-12-30 02:25:21          146832                     Kiehn-Spinka   \n2014-12-30 12:38:25          786968         Frami, Hills and Schmidt   \n2014-12-30 13:38:13          737550     Fritsch, Russel and Anderson   \n2014-12-30 21:42:17          786968         Frami, Hills and Schmidt   \n2014-12-30 22:45:19          239344                       Stokes LLC   \n2014-12-31 10:36:24          642753                      Pollich LLC   \n2014-12-31 12:48:35          383080                         Will LLC   \n\n                          sku  quantity  unit price  ext price  \ndate                                                            \n2014-01-01 07:21:51  B1-20000        39       86.69    3380.91  \n2014-01-01 10:00:47  S2-77896        -1       63.16     -63.16  \n2014-01-01 13:24:58  B1-69924        23       90.70    2086.10  \n2014-01-01 15:05:22  S1-65481        41       21.05     863.05  \n2014-01-01 23:26:55  S2-34077         6       83.21     499.26  \n2014-01-02 10:07:15  S2-77896        17       87.63    1489.71  \n2014-01-02 10:57:23  B1-65551         2       31.10      62.20  \n2014-01-03 06:32:11  S1-30248         8       33.25     266.00  \n2014-01-03 11:29:02  S1-50961        22       84.09    1849.98  \n2014-01-03 19:07:37  S2-82423        14       81.92    1146.88  \n2014-01-03 19:39:53  S2-82423        15       67.74    1016.10  \n2014-01-04 00:02:36  S2-00301         7       20.26     141.82  \n2014-01-04 06:51:53  S2-23246         6       61.31     367.86  \n2014-01-04 07:53:01  S2-10342        17       12.44     211.48  \n2014-01-04 08:57:48  B1-53102        23       71.56    1645.88  \n2014-01-04 11:34:58  S1-06532        34       71.51    2431.34  \n2014-01-04 19:59:02  S1-30248        14       72.75    1018.50  \n2014-01-04 22:14:32  B1-50809        14       16.23     227.22  \n2014-01-05 15:12:16  S1-82801        10       94.30     943.00  \n2014-01-05 22:39:21  S2-00301        33       31.18    1028.94  \n2014-01-06 08:20:27  S2-00301        45       96.95    4362.75  \n2014-01-06 14:14:00  S1-30248        24       50.29    1206.96  \n2014-01-06 15:53:49  B1-04202         2       52.41     104.82  \n2014-01-06 18:27:28  S1-30248        -1       16.97     -16.97  \n2014-01-06 23:38:31  S2-83881        34       60.41    2053.94  \n2014-01-07 00:29:41  S2-78676         5       14.75      73.75  \n2014-01-08 00:02:11  B1-53636        42       42.06    1766.52  \n2014-01-08 10:00:08  S2-83881        42       63.87    2682.54  \n2014-01-08 11:50:18  B1-38851         4       60.04     240.16  \n2014-01-08 17:46:40  B1-86481         6       81.79     490.74  \n...                       ...       ...         ...        ...  \n2014-12-23 08:29:30  S2-00301        -1       63.08     -63.08  \n2014-12-23 08:44:32  S2-00301         9       40.83     367.47  \n2014-12-24 07:10:32  S1-30248        48       33.79    1621.92  \n2014-12-24 07:16:26  B1-53102         3       54.07     162.21  \n2014-12-24 09:50:26  B1-86481        43       26.47    1138.21  \n2014-12-24 18:04:20  B1-05914        46       82.07    3775.22  \n2014-12-24 19:33:58  S1-50961        24       13.00     312.00  \n2014-12-24 22:54:28  B1-05914         7       32.00     224.00  \n2014-12-25 00:04:04  S1-50961         9       96.54     868.86  \n2014-12-25 01:22:00  S1-30248        42       43.69    1834.98  \n2014-12-25 03:48:04  S1-82801        26       85.59    2225.34  \n2014-12-25 06:14:53  S2-77896         9       23.58     212.22  \n2014-12-26 06:53:40  S2-83881        11       50.25     552.75  \n2014-12-26 08:30:34  S1-47412        31       85.90    2662.90  \n2014-12-26 13:18:51  S2-82423        15       56.64     849.60  \n2014-12-26 18:31:15  B1-04202         6       58.78     352.68  \n2014-12-27 07:14:09  S2-00301        -1       22.99     -22.99  \n2014-12-28 09:19:21  S1-50961         5       89.19     445.95  \n2014-12-28 10:11:13  S1-47412        39       49.46    1928.94  \n2014-12-28 13:21:03  S1-93683        47       25.48    1197.56  \n2014-12-29 13:32:18  B1-86481        40       23.23     929.20  \n2014-12-29 14:23:37  S2-77896        19       33.18     630.42  \n2014-12-29 17:43:04  B1-53102        32       34.71    1110.72  \n2014-12-30 02:25:21  S1-50961        27       95.90    2589.30  \n2014-12-30 12:38:25  B1-86481         8       74.01     592.08  \n2014-12-30 13:38:13  S1-06532        12       55.80     669.60  \n2014-12-30 21:42:17  S1-06532        37       13.14     486.18  \n2014-12-30 22:45:19  S2-10342        14       38.75     542.50  \n2014-12-31 10:36:24  S2-82423         3       65.97     197.91  \n2014-12-31 12:48:35  S2-00301        38       46.44    1764.72  \n\n[1500 rows x 6 columns]"
          },
          "metadata": {}
        }
      ]
    },
    {
      "metadata": {
        "trusted": true
      },
      "cell_type": "code",
      "source": "df.set_index('date').resample('M')",
      "execution_count": 14,
      "outputs": [
        {
          "output_type": "execute_result",
          "execution_count": 14,
          "data": {
            "text/plain": "DatetimeIndexResampler [freq=<MonthEnd>, axis=0, closed=right, label=right, convention=start, base=0]"
          },
          "metadata": {}
        }
      ]
    },
    {
      "metadata": {
        "trusted": true
      },
      "cell_type": "code",
      "source": "df.set_index('date').resample('M')[\"ext price\"].mean()",
      "execution_count": 16,
      "outputs": [
        {
          "output_type": "execute_result",
          "execution_count": 16,
          "data": {
            "text/plain": "date\n2014-01-31    1383.295970\n2014-02-28    1353.811296\n2014-03-31    1436.066056\n2014-04-30    1302.791866\n2014-05-31    1253.170833\n2014-06-30    1360.072891\n2014-07-31    1497.360234\n2014-08-31    1314.346923\n2014-09-30    1427.484492\n2014-10-31    1361.073968\n2014-11-30    1052.291404\n2014-12-31    1377.035798\nFreq: M, Name: ext price, dtype: float64"
          },
          "metadata": {}
        }
      ]
    },
    {
      "metadata": {
        "trusted": true
      },
      "cell_type": "code",
      "source": "df.set_index('date').groupby('name')[\"ext price\"].sum()",
      "execution_count": 18,
      "outputs": [
        {
          "output_type": "execute_result",
          "execution_count": 18,
          "data": {
            "text/plain": "name\nBarton LLC                         109438.50\nCronin, Oberbrunner and Spencer     89734.55\nFrami, Hills and Schmidt           103569.59\nFritsch, Russel and Anderson       112214.71\nHalvorson, Crona and Champlin       70004.36\nHerman LLC                          82865.00\nJerde-Hilpert                      112591.43\nKassulke, Ondricka and Metz         86451.07\nKeeling LLC                        100934.30\nKiehn-Spinka                        99608.77\nKoepp Ltd                          103660.54\nKuhn-Gusikowski                     91094.28\nKulas Inc                          137351.96\nPollich LLC                         87347.18\nPurdy-Kunde                         77898.21\nSanford and Sons                    98822.98\nStokes LLC                          91535.92\nTrantow-Barrows                    123381.38\nWhite-Trantow                      135841.99\nWill LLC                           104437.60\nName: ext price, dtype: float64"
          },
          "metadata": {}
        }
      ]
    },
    {
      "metadata": {
        "trusted": true
      },
      "cell_type": "code",
      "source": "df.groupby(['name', pd.Grouper(key='date', freq='M')])['ext price'].sum()",
      "execution_count": 19,
      "outputs": [
        {
          "output_type": "execute_result",
          "execution_count": 19,
          "data": {
            "text/plain": "name                             date      \nBarton LLC                       2014-01-31     6177.57\n                                 2014-02-28    12218.03\n                                 2014-03-31     3513.53\n                                 2014-04-30    11474.20\n                                 2014-05-31    10220.17\n                                 2014-06-30    10463.73\n                                 2014-07-31     6750.48\n                                 2014-08-31    17541.46\n                                 2014-09-30    14053.61\n                                 2014-10-31     9351.68\n                                 2014-11-30     4901.14\n                                 2014-12-31     2772.90\nCronin, Oberbrunner and Spencer  2014-01-31     1141.75\n                                 2014-02-28    13976.26\n                                 2014-03-31    11691.62\n                                 2014-04-30     3685.44\n                                 2014-05-31     6760.11\n                                 2014-06-30     5379.67\n                                 2014-07-31     6020.30\n                                 2014-08-31     5399.58\n                                 2014-09-30    12693.74\n                                 2014-10-31     9324.37\n                                 2014-11-30     6021.11\n                                 2014-12-31     7640.60\nFrami, Hills and Schmidt         2014-01-31     5112.34\n                                 2014-02-28     4124.53\n                                 2014-03-31    10397.44\n                                 2014-04-30     5036.18\n                                 2014-05-31     4097.87\n                                 2014-06-30    13192.19\n                                                 ...   \nTrantow-Barrows                  2014-07-31    11987.34\n                                 2014-08-31    17251.65\n                                 2014-09-30     6992.48\n                                 2014-10-31    10064.27\n                                 2014-11-30     6550.10\n                                 2014-12-31    10124.23\nWhite-Trantow                    2014-01-31    13703.77\n                                 2014-02-28    11783.98\n                                 2014-03-31     8583.05\n                                 2014-04-30    19009.20\n                                 2014-05-31     5877.29\n                                 2014-06-30    14791.32\n                                 2014-07-31    10242.62\n                                 2014-08-31    12287.21\n                                 2014-09-30     5315.16\n                                 2014-10-31    19896.85\n                                 2014-11-30     9544.61\n                                 2014-12-31     4806.93\nWill LLC                         2014-01-31    20953.87\n                                 2014-02-28    13613.06\n                                 2014-03-31     9838.93\n                                 2014-04-30     6094.94\n                                 2014-05-31    11856.95\n                                 2014-06-30     2419.52\n                                 2014-07-31    11017.54\n                                 2014-08-31     1439.82\n                                 2014-09-30     4345.99\n                                 2014-10-31     7085.33\n                                 2014-11-30     3210.44\n                                 2014-12-31    12561.21\nName: ext price, Length: 240, dtype: float64"
          },
          "metadata": {}
        }
      ]
    },
    {
      "metadata": {
        "trusted": true
      },
      "cell_type": "code",
      "source": "df[[\"ext price\", \"quantity\", \"unit price\"]].agg(['sum', 'mean'])",
      "execution_count": 20,
      "outputs": [
        {
          "output_type": "execute_result",
          "execution_count": 20,
          "data": {
            "text/html": "<div>\n<style scoped>\n    .dataframe tbody tr th:only-of-type {\n        vertical-align: middle;\n    }\n\n    .dataframe tbody tr th {\n        vertical-align: top;\n    }\n\n    .dataframe thead th {\n        text-align: right;\n    }\n</style>\n<table border=\"1\" class=\"dataframe\">\n  <thead>\n    <tr style=\"text-align: right;\">\n      <th></th>\n      <th>ext price</th>\n      <th>quantity</th>\n      <th>unit price</th>\n    </tr>\n  </thead>\n  <tbody>\n    <tr>\n      <th>sum</th>\n      <td>2.018784e+06</td>\n      <td>36463.000000</td>\n      <td>82511.290000</td>\n    </tr>\n    <tr>\n      <th>mean</th>\n      <td>1.345856e+03</td>\n      <td>24.308667</td>\n      <td>55.007527</td>\n    </tr>\n  </tbody>\n</table>\n</div>",
            "text/plain": "         ext price      quantity    unit price\nsum   2.018784e+06  36463.000000  82511.290000\nmean  1.345856e+03     24.308667     55.007527"
          },
          "metadata": {}
        }
      ]
    },
    {
      "metadata": {
        "trusted": true
      },
      "cell_type": "code",
      "source": "dd = df.agg({'ext price': ['sum'], \n        'quantity': ['sum', ], \n        'unit price': ['mean']})",
      "execution_count": 24,
      "outputs": []
    },
    {
      "metadata": {
        "trusted": true
      },
      "cell_type": "code",
      "source": "df.agg({'ext price': ['sum'], \n        'quantity': ['sum', ], \n        'unit price': ['mean']})",
      "execution_count": 50,
      "outputs": [
        {
          "output_type": "execute_result",
          "execution_count": 50,
          "data": {
            "text/html": "<div>\n<style scoped>\n    .dataframe tbody tr th:only-of-type {\n        vertical-align: middle;\n    }\n\n    .dataframe tbody tr th {\n        vertical-align: top;\n    }\n\n    .dataframe thead th {\n        text-align: right;\n    }\n</style>\n<table border=\"1\" class=\"dataframe\">\n  <thead>\n    <tr style=\"text-align: right;\">\n      <th></th>\n      <th>ext price</th>\n      <th>quantity</th>\n      <th>unit price</th>\n    </tr>\n  </thead>\n  <tbody>\n    <tr>\n      <th>mean</th>\n      <td>NaN</td>\n      <td>NaN</td>\n      <td>55.007527</td>\n    </tr>\n    <tr>\n      <th>sum</th>\n      <td>2018784.32</td>\n      <td>36463.0</td>\n      <td>NaN</td>\n    </tr>\n  </tbody>\n</table>\n</div>",
            "text/plain": "       ext price  quantity  unit price\nmean         NaN       NaN   55.007527\nsum   2018784.32   36463.0         NaN"
          },
          "metadata": {}
        }
      ]
    },
    {
      "metadata": {
        "trusted": true
      },
      "cell_type": "code",
      "source": "dd = dd.stack()",
      "execution_count": 32,
      "outputs": []
    },
    {
      "metadata": {
        "trusted": true
      },
      "cell_type": "code",
      "source": "dd",
      "execution_count": 49,
      "outputs": [
        {
          "output_type": "execute_result",
          "execution_count": 49,
          "data": {
            "text/plain": "mean  unit price    5.500753e+01\nsum   ext price     2.018784e+06\n      quantity      3.646300e+04\ndtype: float64"
          },
          "metadata": {}
        }
      ]
    },
    {
      "metadata": {
        "trusted": true
      },
      "cell_type": "code",
      "source": "pd.DataFrame(dd).reset_index().drop(columns='level_0').rename(columns={'level_1': 'columns', 0:'value'}).set_index('columns').T.set_index('unit price')",
      "execution_count": 56,
      "outputs": [
        {
          "output_type": "execute_result",
          "execution_count": 56,
          "data": {
            "text/html": "<div>\n<style scoped>\n    .dataframe tbody tr th:only-of-type {\n        vertical-align: middle;\n    }\n\n    .dataframe tbody tr th {\n        vertical-align: top;\n    }\n\n    .dataframe thead th {\n        text-align: right;\n    }\n</style>\n<table border=\"1\" class=\"dataframe\">\n  <thead>\n    <tr style=\"text-align: right;\">\n      <th>columns</th>\n      <th>ext price</th>\n      <th>quantity</th>\n    </tr>\n    <tr>\n      <th>unit price</th>\n      <th></th>\n      <th></th>\n    </tr>\n  </thead>\n  <tbody>\n    <tr>\n      <th>55.007527</th>\n      <td>2018784.32</td>\n      <td>36463.0</td>\n    </tr>\n  </tbody>\n</table>\n</div>",
            "text/plain": "columns      ext price  quantity\nunit price                      \n55.007527   2018784.32   36463.0"
          },
          "metadata": {}
        }
      ]
    },
    {
      "metadata": {
        "trusted": true
      },
      "cell_type": "code",
      "source": "get_max = lambda x: x.value_counts(dropna=False).index[0]\nget_max_count = lambda x: x.value_counts(dropna=False).iloc[0]",
      "execution_count": 66,
      "outputs": []
    },
    {
      "metadata": {
        "trusted": true
      },
      "cell_type": "code",
      "source": "df.agg({'ext price': ['sum', 'mean'], \n        'quantity': ['sum', 'mean'], \n        'unit price': ['mean'], \n        'sku': [get_max_count]})",
      "execution_count": 70,
      "outputs": [
        {
          "output_type": "execute_result",
          "execution_count": 70,
          "data": {
            "text/html": "<div>\n<style scoped>\n    .dataframe tbody tr th:only-of-type {\n        vertical-align: middle;\n    }\n\n    .dataframe tbody tr th {\n        vertical-align: top;\n    }\n\n    .dataframe thead th {\n        text-align: right;\n    }\n</style>\n<table border=\"1\" class=\"dataframe\">\n  <thead>\n    <tr style=\"text-align: right;\">\n      <th></th>\n      <th>ext price</th>\n      <th>quantity</th>\n      <th>unit price</th>\n      <th>sku</th>\n    </tr>\n  </thead>\n  <tbody>\n    <tr>\n      <th>&lt;lambda&gt;</th>\n      <td>NaN</td>\n      <td>NaN</td>\n      <td>NaN</td>\n      <td>73.0</td>\n    </tr>\n    <tr>\n      <th>mean</th>\n      <td>1.345856e+03</td>\n      <td>24.308667</td>\n      <td>55.007527</td>\n      <td>NaN</td>\n    </tr>\n    <tr>\n      <th>sum</th>\n      <td>2.018784e+06</td>\n      <td>36463.000000</td>\n      <td>NaN</td>\n      <td>NaN</td>\n    </tr>\n  </tbody>\n</table>\n</div>",
            "text/plain": "             ext price      quantity  unit price   sku\n<lambda>           NaN           NaN         NaN  73.0\nmean      1.345856e+03     24.308667   55.007527   NaN\nsum       2.018784e+06  36463.000000         NaN   NaN"
          },
          "metadata": {}
        }
      ]
    },
    {
      "metadata": {
        "trusted": true
      },
      "cell_type": "code",
      "source": "df['sku'].value_counts(ascending=True)",
      "execution_count": 79,
      "outputs": [
        {
          "output_type": "execute_result",
          "execution_count": 79,
          "data": {
            "text/plain": "S1-65481    34\nB1-86481    35\nB1-50809    39\nS2-00301    39\nS2-23246    41\nB1-69924    44\nS2-11481    44\nB1-33087    44\nS2-78676    46\nB1-65551    47\nB1-04202    48\nB1-53102    49\nB1-05914    49\nS2-16558    49\nB1-33364    49\nS2-83881    51\nS2-34077    51\nB1-20000    53\nS1-06532    53\nB1-53636    53\nS1-27722    53\nS1-50961    55\nS1-30248    55\nB1-38851    56\nS2-82423    56\nS1-93683    57\nS1-47412    58\nS2-10342    59\nS1-82801    60\nS2-77896    73\nName: sku, dtype: int64"
          },
          "metadata": {}
        }
      ]
    },
    {
      "metadata": {
        "trusted": true
      },
      "cell_type": "code",
      "source": "s = pd.Series(['3/11/2000', '3/12/2000', '3/13/2000']*1000)",
      "execution_count": 80,
      "outputs": []
    },
    {
      "metadata": {
        "trusted": true
      },
      "cell_type": "code",
      "source": "s.head(2)",
      "execution_count": 82,
      "outputs": [
        {
          "output_type": "execute_result",
          "execution_count": 82,
          "data": {
            "text/plain": "0    3/11/2000\n1    3/12/2000\ndtype: object"
          },
          "metadata": {}
        }
      ]
    },
    {
      "metadata": {
        "trusted": true
      },
      "cell_type": "code",
      "source": "pd.to_datetime(s,infer_datetime_format=True)",
      "execution_count": 84,
      "outputs": [
        {
          "output_type": "execute_result",
          "execution_count": 84,
          "data": {
            "text/plain": "0      2000-03-11\n1      2000-03-12\n2      2000-03-13\n3      2000-03-11\n4      2000-03-12\n5      2000-03-13\n6      2000-03-11\n7      2000-03-12\n8      2000-03-13\n9      2000-03-11\n10     2000-03-12\n11     2000-03-13\n12     2000-03-11\n13     2000-03-12\n14     2000-03-13\n15     2000-03-11\n16     2000-03-12\n17     2000-03-13\n18     2000-03-11\n19     2000-03-12\n20     2000-03-13\n21     2000-03-11\n22     2000-03-12\n23     2000-03-13\n24     2000-03-11\n25     2000-03-12\n26     2000-03-13\n27     2000-03-11\n28     2000-03-12\n29     2000-03-13\n          ...    \n2970   2000-03-11\n2971   2000-03-12\n2972   2000-03-13\n2973   2000-03-11\n2974   2000-03-12\n2975   2000-03-13\n2976   2000-03-11\n2977   2000-03-12\n2978   2000-03-13\n2979   2000-03-11\n2980   2000-03-12\n2981   2000-03-13\n2982   2000-03-11\n2983   2000-03-12\n2984   2000-03-13\n2985   2000-03-11\n2986   2000-03-12\n2987   2000-03-13\n2988   2000-03-11\n2989   2000-03-12\n2990   2000-03-13\n2991   2000-03-11\n2992   2000-03-12\n2993   2000-03-13\n2994   2000-03-11\n2995   2000-03-12\n2996   2000-03-13\n2997   2000-03-11\n2998   2000-03-12\n2999   2000-03-13\nLength: 3000, dtype: datetime64[ns]"
          },
          "metadata": {}
        }
      ]
    },
    {
      "metadata": {
        "trusted": true
      },
      "cell_type": "code",
      "source": "",
      "execution_count": null,
      "outputs": []
    }
  ],
  "metadata": {
    "kernelspec": {
      "name": "python36",
      "display_name": "Python 3.6",
      "language": "python"
    },
    "language_info": {
      "mimetype": "text/x-python",
      "nbconvert_exporter": "python",
      "name": "python",
      "pygments_lexer": "ipython3",
      "version": "3.6.6",
      "file_extension": ".py",
      "codemirror_mode": {
        "version": 3,
        "name": "ipython"
      }
    }
  },
  "nbformat": 4,
  "nbformat_minor": 1
}