{
  "cells": [
    {
      "metadata": {},
      "cell_type": "markdown",
      "source": "## Ejercicio"
    },
    {
      "metadata": {},
      "cell_type": "markdown",
      "source": "Se tiene una coleccion de datos,"
    },
    {
      "metadata": {
        "trusted": false
      },
      "cell_type": "code",
      "source": "# ('Carlos', 25252525, 'San Jose', 'carlos@gmail.com')",
      "execution_count": 1,
      "outputs": []
    },
    {
      "metadata": {
        "trusted": false
      },
      "cell_type": "code",
      "source": "# crear una funcion que imprima el nombre, llame al numero de telefono,\n# envie carta a san jose y envie correo electronico",
      "execution_count": 2,
      "outputs": []
    },
    {
      "metadata": {
        "trusted": false
      },
      "cell_type": "code",
      "source": "# la funcion. envia_datos",
      "execution_count": 3,
      "outputs": []
    },
    {
      "metadata": {
        "trusted": false
      },
      "cell_type": "code",
      "source": "datos = ('Carlos', 25252525, 'San Jose', 'carlos@gmail.com', 10, 5,7,877,9,7,5,1)",
      "execution_count": 32,
      "outputs": []
    },
    {
      "metadata": {
        "trusted": false
      },
      "cell_type": "code",
      "source": "def envia_dato(nombre, telefono, lugar, email, *args):\n    print(f'Hola soy {nombre}')\n    print(f'...llamando al {telefono}')\n    print(f'...enviado carta a {lugar}')\n    print(f'...enviado email a {email}')\n    print(f'...y todo lo demas {args}')",
      "execution_count": 33,
      "outputs": []
    },
    {
      "metadata": {
        "trusted": false
      },
      "cell_type": "code",
      "source": "envia_dato(*datos)",
      "execution_count": 34,
      "outputs": [
        {
          "name": "stdout",
          "output_type": "stream",
          "text": "Hola soy Carlos\n...llamando al 25252525\n...enviado carta a San Jose\n...enviado email a carlos@gmail.com\n...y todo lo demas (10, 5, 7, 877, 9, 7, 5, 1)\n"
        }
      ]
    },
    {
      "metadata": {
        "trusted": false
      },
      "cell_type": "code",
      "source": "# otra opcion",
      "execution_count": 22,
      "outputs": []
    },
    {
      "metadata": {
        "trusted": false
      },
      "cell_type": "code",
      "source": "def envia_dato_2(mis_datos):\n    nombre, telefono, lugar, email , *args= mis_datos\n    print(f'Hola soy {nombre}')\n    print(f'...llamando al {telefono}')\n    print(f'...enviado carta a {lugar}')\n    print(f'...enviado email a {email}')",
      "execution_count": 25,
      "outputs": []
    },
    {
      "metadata": {
        "trusted": false
      },
      "cell_type": "code",
      "source": "envia_dato_2(datos)",
      "execution_count": 26,
      "outputs": [
        {
          "name": "stdout",
          "output_type": "stream",
          "text": "Hola soy Carlos\n...llamando al 25252525\n...enviado carta a San Jose\n...enviado email a carlos@gmail.com\n"
        }
      ]
    },
    {
      "metadata": {
        "trusted": false
      },
      "cell_type": "code",
      "source": "",
      "execution_count": null,
      "outputs": []
    }
  ],
  "metadata": {
    "kernelspec": {
      "name": "python3",
      "display_name": "Python 3",
      "language": "python"
    },
    "language_info": {
      "mimetype": "text/x-python",
      "nbconvert_exporter": "python",
      "name": "python",
      "pygments_lexer": "ipython3",
      "version": "3.5.4",
      "file_extension": ".py",
      "codemirror_mode": {
        "version": 3,
        "name": "ipython"
      }
    }
  },
  "nbformat": 4,
  "nbformat_minor": 2
}