{
 "cells": [
  {
   "cell_type": "markdown",
   "metadata": {},
   "source": [
    "# Polymorphism"
   ]
  },
  {
   "cell_type": "markdown",
   "metadata": {},
   "source": [
    "Sometimes an object comes in many types or forms. If we have a button, there are many different draw outputs (round button, check button, square button, button with image) but they do share the same logic: onClick().  We access them using the same method . This idea is called Polymorphism.\n",
    "\n",
    "Polymorphism is based on the greek words Poly (many) and morphism (forms).  We will create a structure that can take or use many forms of objects."
   ]
  },
  {
   "cell_type": "markdown",
   "metadata": {},
   "source": [
    "## Polymorphism with a function:"
   ]
  },
  {
   "cell_type": "markdown",
   "metadata": {},
   "source": [
    "We create two classes:  Bear and Dog, both  can make a distinct sound.  We then make two instances and call their action using the same method."
   ]
  },
  {
   "cell_type": "code",
   "execution_count": 2,
   "metadata": {},
   "outputs": [],
   "source": [
    "class Bear():\n",
    "    def sound(self):\n",
    "        print(\"Groarrr\")\n",
    " \n",
    "class Dog():\n",
    "    def sound(self):\n",
    "        print(\"Woof woof!\")\n",
    " \n",
    "def makeSound(animalType):\n",
    "    animalType.sound()"
   ]
  },
  {
   "cell_type": "code",
   "execution_count": 3,
   "metadata": {},
   "outputs": [
    {
     "name": "stdout",
     "output_type": "stream",
     "text": [
      "Groarrr\n",
      "Woof woof!\n"
     ]
    }
   ],
   "source": [
    "bearObj = Bear()\n",
    "dogObj = Dog()\n",
    " \n",
    "makeSound(bearObj)\n",
    "makeSound(dogObj)"
   ]
  },
  {
   "cell_type": "markdown",
   "metadata": {},
   "source": [
    "## Polymorphism with abstract class (most commonly used)"
   ]
  },
  {
   "cell_type": "markdown",
   "metadata": {},
   "source": [
    "If you create an editor you may not know in advance what type of documents a user will open (pdf format or word format?).  \n",
    "\n",
    "Wouldn’t it be great to acess them like this,  instead of having 20 types for every document?"
   ]
  },
  {
   "cell_type": "markdown",
   "metadata": {},
   "source": [
    "To do so, we create an abstract class called document.  This class does not have any implementation but defines the structure (in form of functions) that all forms must have.   If we define the function show()  then both the PdfDocument and WordDocument must have the show() function. Full code:"
   ]
  },
  {
   "cell_type": "markdown",
   "metadata": {},
   "source": [
    "![text](https://pythonspot-9329.kxcdn.com/wp-content/uploads/2016/03/polymorphism.png.webp)"
   ]
  },
  {
   "cell_type": "code",
   "execution_count": 7,
   "metadata": {},
   "outputs": [],
   "source": [
    "class Document:\n",
    "    def __init__(self, name):\n",
    "        self.name = name\n",
    " \n",
    "    def show(self):\n",
    "        raise NotImplementedError(\"Subclass must implement abstract method\")\n",
    " \n",
    "class Pdf(Document):\n",
    "    def show(self):\n",
    "        return 'Show pdf contents!'\n",
    " \n",
    "class Word(Document):\n",
    "    def show(self):\n",
    "        return 'Show word contents!'\n",
    " \n",
    "documents = [Pdf('Document1'), Pdf('Document2'),Word('Document3')]"
   ]
  },
  {
   "cell_type": "code",
   "execution_count": 8,
   "metadata": {},
   "outputs": [
    {
     "name": "stdout",
     "output_type": "stream",
     "text": [
      "Document1: Show pdf contents!\n",
      "Document2: Show pdf contents!\n",
      "Document3: Show word contents!\n"
     ]
    }
   ],
   "source": [
    "for document in documents:\n",
    "    print(document.name + ': ' + document.show())"
   ]
  },
  {
   "cell_type": "markdown",
   "metadata": {},
   "source": [
    "We have an abstract access point (document) to many types of objects (pdf,word) that follow the same structure."
   ]
  },
  {
   "cell_type": "markdown",
   "metadata": {},
   "source": [
    "## Polymorphism example"
   ]
  },
  {
   "cell_type": "markdown",
   "metadata": {},
   "source": [
    "Another example would be to have an abstract class Car which holds the structure  drive() and stop().  \n",
    "\n",
    "We define two objects Sportscar and Truck, both are a form of Car. In pseudo code what we will do is:"
   ]
  },
  {
   "cell_type": "markdown",
   "metadata": {},
   "source": [
    "![text](https://pythonspot-9329.kxcdn.com/wp-content/uploads/2016/03/polymorphism-example.png.webp)"
   ]
  },
  {
   "cell_type": "code",
   "execution_count": 12,
   "metadata": {},
   "outputs": [
    {
     "name": "stdout",
     "output_type": "stream",
     "text": [
      "Bananatruck: Truck driving slowly because heavily loaded.\n",
      "Orangetruck: Truck driving slowly because heavily loaded.\n",
      "Z3: Sportscar driving!\n"
     ]
    }
   ],
   "source": [
    "class Car:\n",
    "    def __init__(self, name):\n",
    "        self.name = name\n",
    "\n",
    "    def drive(self):\n",
    "        raise NotImplementedError(\"Subclass must implement abstract method\")\n",
    "\n",
    "    def stop(self):\n",
    "        raise NotImplementedError(\"Subclass must implement abstract method\")\n",
    "\n",
    "class Sportscar(Car):\n",
    "    def drive(self):\n",
    "        return 'Sportscar driving!'\n",
    "\n",
    "    def stop(self):\n",
    "        return 'Sportscar braking!'\n",
    " \n",
    "class Truck(Car):\n",
    "    def drive(self):\n",
    "        return 'Truck driving slowly because heavily loaded.'\n",
    "\n",
    "    def stop(self):\n",
    "        return 'Truck braking!'\n",
    " \n",
    "cars = [Truck('Bananatruck'),\n",
    "Truck('Orangetruck'),\n",
    "Sportscar('Z3')]\n",
    " \n",
    "for car in cars:\n",
    "    print(car.name + ': ' + car.drive())"
   ]
  },
  {
   "cell_type": "code",
   "execution_count": null,
   "metadata": {},
   "outputs": [],
   "source": []
  }
 ],
 "metadata": {
  "kernelspec": {
   "display_name": "Python 3",
   "language": "python",
   "name": "python3"
  },
  "language_info": {
   "codemirror_mode": {
    "name": "ipython",
    "version": 3
   },
   "file_extension": ".py",
   "mimetype": "text/x-python",
   "name": "python",
   "nbconvert_exporter": "python",
   "pygments_lexer": "ipython3",
   "version": "3.6.5"
  }
 },
 "nbformat": 4,
 "nbformat_minor": 2
}
