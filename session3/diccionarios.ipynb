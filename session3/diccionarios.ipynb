{
  "cells": [
    {
      "metadata": {
        "trusted": false
      },
      "cell_type": "code",
      "source": "# agenda telfonica\nagenda = {\n    'juan' : 87984512,\n    'carlos' : 7841247\n}",
      "execution_count": 1,
      "outputs": []
    },
    {
      "metadata": {
        "trusted": false
      },
      "cell_type": "code",
      "source": "agenda['juan']",
      "execution_count": 3,
      "outputs": [
        {
          "data": {
            "text/plain": "87984512"
          },
          "execution_count": 3,
          "metadata": {},
          "output_type": "execute_result"
        }
      ]
    },
    {
      "metadata": {
        "trusted": false
      },
      "cell_type": "code",
      "source": "agenda['maria'] = 911",
      "execution_count": 4,
      "outputs": []
    },
    {
      "metadata": {
        "trusted": false
      },
      "cell_type": "code",
      "source": "agenda",
      "execution_count": 5,
      "outputs": [
        {
          "data": {
            "text/plain": "{'juan': 87984512, 'carlos': 7841247, 'maria': 911}"
          },
          "execution_count": 5,
          "metadata": {},
          "output_type": "execute_result"
        }
      ]
    },
    {
      "metadata": {
        "trusted": false
      },
      "cell_type": "code",
      "source": "agenda['juan']",
      "execution_count": 6,
      "outputs": [
        {
          "data": {
            "text/plain": "87984512"
          },
          "execution_count": 6,
          "metadata": {},
          "output_type": "execute_result"
        }
      ]
    },
    {
      "metadata": {
        "trusted": false
      },
      "cell_type": "code",
      "source": "agenda['Juan']",
      "execution_count": 8,
      "outputs": [
        {
          "ename": "KeyError",
          "evalue": "'Juan'",
          "output_type": "error",
          "traceback": [
            "\u001b[1;31m---------------------------------------------------------------------------\u001b[0m",
            "\u001b[1;31mKeyError\u001b[0m                                  Traceback (most recent call last)",
            "\u001b[1;32m<ipython-input-8-a323fbac8032>\u001b[0m in \u001b[0;36m<module>\u001b[1;34m()\u001b[0m\n\u001b[1;32m----> 1\u001b[1;33m \u001b[0magenda\u001b[0m\u001b[1;33m[\u001b[0m\u001b[1;34m'Juan'\u001b[0m\u001b[1;33m]\u001b[0m\u001b[1;33m\u001b[0m\u001b[0m\n\u001b[0m",
            "\u001b[1;31mKeyError\u001b[0m: 'Juan'"
          ]
        }
      ]
    },
    {
      "metadata": {
        "trusted": false
      },
      "cell_type": "code",
      "source": "agenda.get('sofia', 'no lo tengo ...')",
      "execution_count": 11,
      "outputs": [
        {
          "data": {
            "text/plain": "'no lo tengo ...'"
          },
          "execution_count": 11,
          "metadata": {},
          "output_type": "execute_result"
        }
      ]
    },
    {
      "metadata": {
        "trusted": false
      },
      "cell_type": "code",
      "source": "agenda",
      "execution_count": 12,
      "outputs": [
        {
          "data": {
            "text/plain": "{'juan': 87984512, 'carlos': 7841247, 'maria': 911}"
          },
          "execution_count": 12,
          "metadata": {},
          "output_type": "execute_result"
        }
      ]
    },
    {
      "metadata": {
        "trusted": false
      },
      "cell_type": "code",
      "source": "del agenda['maria']",
      "execution_count": 13,
      "outputs": []
    },
    {
      "metadata": {
        "trusted": false
      },
      "cell_type": "code",
      "source": "agenda",
      "execution_count": 14,
      "outputs": [
        {
          "data": {
            "text/plain": "{'juan': 87984512, 'carlos': 7841247}"
          },
          "execution_count": 14,
          "metadata": {},
          "output_type": "execute_result"
        }
      ]
    },
    {
      "metadata": {
        "trusted": false
      },
      "cell_type": "code",
      "source": "agenda['laura'] = 8715459",
      "execution_count": 15,
      "outputs": []
    },
    {
      "metadata": {
        "trusted": false
      },
      "cell_type": "code",
      "source": "agenda",
      "execution_count": 16,
      "outputs": [
        {
          "data": {
            "text/plain": "{'juan': 87984512, 'carlos': 7841247, 'laura': 8715459}"
          },
          "execution_count": 16,
          "metadata": {},
          "output_type": "execute_result"
        }
      ]
    },
    {
      "metadata": {
        "trusted": false
      },
      "cell_type": "code",
      "source": "agenda['maria']",
      "execution_count": 17,
      "outputs": [
        {
          "ename": "KeyError",
          "evalue": "'maria'",
          "output_type": "error",
          "traceback": [
            "\u001b[1;31m---------------------------------------------------------------------------\u001b[0m",
            "\u001b[1;31mKeyError\u001b[0m                                  Traceback (most recent call last)",
            "\u001b[1;32m<ipython-input-17-b4c7abde569d>\u001b[0m in \u001b[0;36m<module>\u001b[1;34m()\u001b[0m\n\u001b[1;32m----> 1\u001b[1;33m \u001b[0magenda\u001b[0m\u001b[1;33m[\u001b[0m\u001b[1;34m'maria'\u001b[0m\u001b[1;33m]\u001b[0m\u001b[1;33m\u001b[0m\u001b[0m\n\u001b[0m",
            "\u001b[1;31mKeyError\u001b[0m: 'maria'"
          ]
        }
      ]
    },
    {
      "metadata": {
        "trusted": false
      },
      "cell_type": "code",
      "source": "list(agenda)",
      "execution_count": 18,
      "outputs": [
        {
          "data": {
            "text/plain": "['juan', 'carlos', 'laura']"
          },
          "execution_count": 18,
          "metadata": {},
          "output_type": "execute_result"
        }
      ]
    },
    {
      "metadata": {
        "trusted": false
      },
      "cell_type": "code",
      "source": "agenda",
      "execution_count": 19,
      "outputs": [
        {
          "data": {
            "text/plain": "{'juan': 87984512, 'carlos': 7841247, 'laura': 8715459}"
          },
          "execution_count": 19,
          "metadata": {},
          "output_type": "execute_result"
        }
      ]
    },
    {
      "metadata": {
        "trusted": false
      },
      "cell_type": "code",
      "source": "'juan' in agenda",
      "execution_count": 20,
      "outputs": [
        {
          "data": {
            "text/plain": "True"
          },
          "execution_count": 20,
          "metadata": {},
          "output_type": "execute_result"
        }
      ]
    },
    {
      "metadata": {
        "trusted": false
      },
      "cell_type": "code",
      "source": "'maria' in agenda",
      "execution_count": 21,
      "outputs": [
        {
          "data": {
            "text/plain": "False"
          },
          "execution_count": 21,
          "metadata": {},
          "output_type": "execute_result"
        }
      ]
    },
    {
      "metadata": {
        "trusted": false
      },
      "cell_type": "code",
      "source": "'juan' not in agenda",
      "execution_count": 22,
      "outputs": [
        {
          "data": {
            "text/plain": "False"
          },
          "execution_count": 22,
          "metadata": {},
          "output_type": "execute_result"
        }
      ]
    },
    {
      "metadata": {
        "trusted": false
      },
      "cell_type": "code",
      "source": "# lista de tuplas\ndict([('maria', 84155), ('juan', 47851), ('pedro', 9545454)])",
      "execution_count": 24,
      "outputs": [
        {
          "data": {
            "text/plain": "{'maria': 84155, 'juan': 47851, 'pedro': 9545454}"
          },
          "execution_count": 24,
          "metadata": {},
          "output_type": "execute_result"
        }
      ]
    },
    {
      "metadata": {
        "trusted": false
      },
      "cell_type": "code",
      "source": "a = {x: x**2 for x in (2, 4, 6)}",
      "execution_count": 25,
      "outputs": []
    },
    {
      "metadata": {
        "trusted": false
      },
      "cell_type": "code",
      "source": "a",
      "execution_count": 26,
      "outputs": [
        {
          "data": {
            "text/plain": "{2: 4, 4: 16, 6: 36}"
          },
          "execution_count": 26,
          "metadata": {},
          "output_type": "execute_result"
        }
      ]
    },
    {
      "metadata": {
        "trusted": false
      },
      "cell_type": "code",
      "source": "a[2]",
      "execution_count": 27,
      "outputs": [
        {
          "data": {
            "text/plain": "4"
          },
          "execution_count": 27,
          "metadata": {},
          "output_type": "execute_result"
        }
      ]
    },
    {
      "metadata": {
        "trusted": false
      },
      "cell_type": "code",
      "source": "a[6]",
      "execution_count": 28,
      "outputs": [
        {
          "data": {
            "text/plain": "36"
          },
          "execution_count": 28,
          "metadata": {},
          "output_type": "execute_result"
        }
      ]
    },
    {
      "metadata": {
        "trusted": false
      },
      "cell_type": "code",
      "source": "{x: 'hola' for x in (2, 4, 6)}",
      "execution_count": 29,
      "outputs": [
        {
          "data": {
            "text/plain": "{2: 'hola', 4: 'hola', 6: 'hola'}"
          },
          "execution_count": 29,
          "metadata": {},
          "output_type": "execute_result"
        }
      ]
    },
    {
      "metadata": {
        "trusted": false
      },
      "cell_type": "code",
      "source": "{x: 'a'*x for x in (2, 4, 6)}",
      "execution_count": 30,
      "outputs": [
        {
          "data": {
            "text/plain": "{2: 'aa', 4: 'aaaa', 6: 'aaaaaa'}"
          },
          "execution_count": 30,
          "metadata": {},
          "output_type": "execute_result"
        }
      ]
    },
    {
      "metadata": {
        "trusted": false
      },
      "cell_type": "code",
      "source": "dict(pepe=1, juan=2, carlos=3)",
      "execution_count": 31,
      "outputs": [
        {
          "data": {
            "text/plain": "{'pepe': 1, 'juan': 2, 'carlos': 3}"
          },
          "execution_count": 31,
          "metadata": {},
          "output_type": "execute_result"
        }
      ]
    },
    {
      "metadata": {
        "trusted": false
      },
      "cell_type": "code",
      "source": "knights = {'gallahad': 'the pure', 'robin': 'the brave'}",
      "execution_count": 32,
      "outputs": []
    },
    {
      "metadata": {
        "trusted": false
      },
      "cell_type": "code",
      "source": "[i for i  in knights]",
      "execution_count": 34,
      "outputs": [
        {
          "data": {
            "text/plain": "['gallahad', 'robin']"
          },
          "execution_count": 34,
          "metadata": {},
          "output_type": "execute_result"
        }
      ]
    },
    {
      "metadata": {
        "trusted": false
      },
      "cell_type": "code",
      "source": "[i for i  in knights.items()]",
      "execution_count": 43,
      "outputs": [
        {
          "data": {
            "text/plain": "[('gallahad', 'the pure'), ('robin', 'the brave')]"
          },
          "execution_count": 43,
          "metadata": {},
          "output_type": "execute_result"
        }
      ]
    },
    {
      "metadata": {
        "trusted": false
      },
      "cell_type": "code",
      "source": "[k + \" \" + v for k, v  in knights.items()]",
      "execution_count": 48,
      "outputs": [
        {
          "data": {
            "text/plain": "['gallahad the pure', 'robin the brave']"
          },
          "execution_count": 48,
          "metadata": {},
          "output_type": "execute_result"
        }
      ]
    },
    {
      "metadata": {
        "trusted": false
      },
      "cell_type": "code",
      "source": "## enumerate",
      "execution_count": 49,
      "outputs": []
    },
    {
      "metadata": {
        "trusted": false
      },
      "cell_type": "code",
      "source": "# se puede obtener la secuencia con el índice de posición\nfor i, v in enumerate(['tic', 'tac', 'toe']):\n    print(i, v)",
      "execution_count": 50,
      "outputs": [
        {
          "name": "stdout",
          "output_type": "stream",
          "text": "0 tic\n1 tac\n2 toe\n"
        }
      ]
    },
    {
      "metadata": {
        "trusted": false
      },
      "cell_type": "code",
      "source": "[ (i, k) for i, k  in enumerate(knights.keys())]",
      "execution_count": 55,
      "outputs": [
        {
          "data": {
            "text/plain": "[(0, 'gallahad'), (1, 'robin')]"
          },
          "execution_count": 55,
          "metadata": {},
          "output_type": "execute_result"
        }
      ]
    },
    {
      "metadata": {
        "trusted": false
      },
      "cell_type": "code",
      "source": "[ str(i) + \":\" +  k for i, k  in enumerate(knights.keys())]",
      "execution_count": 58,
      "outputs": [
        {
          "data": {
            "text/plain": "['0:gallahad', '1:robin']"
          },
          "execution_count": 58,
          "metadata": {},
          "output_type": "execute_result"
        }
      ]
    },
    {
      "metadata": {
        "trusted": false
      },
      "cell_type": "code",
      "source": "a = ['A', 'B', 'C']\nb = ['a', 'b', 'c']",
      "execution_count": 59,
      "outputs": []
    },
    {
      "metadata": {
        "trusted": false
      },
      "cell_type": "code",
      "source": "list(zip(a,b))",
      "execution_count": 61,
      "outputs": [
        {
          "data": {
            "text/plain": "[('A', 'a'), ('B', 'b'), ('C', 'c')]"
          },
          "execution_count": 61,
          "metadata": {},
          "output_type": "execute_result"
        }
      ]
    },
    {
      "metadata": {
        "trusted": false
      },
      "cell_type": "code",
      "source": "dict(zip(a,b))",
      "execution_count": 62,
      "outputs": [
        {
          "data": {
            "text/plain": "{'A': 'a', 'B': 'b', 'C': 'c'}"
          },
          "execution_count": 62,
          "metadata": {},
          "output_type": "execute_result"
        }
      ]
    },
    {
      "metadata": {
        "trusted": false
      },
      "cell_type": "code",
      "source": "a = ['A', 'B', 'C']\nb = ['a', 'b']\nlist(zip(a,b))",
      "execution_count": 68,
      "outputs": [
        {
          "data": {
            "text/plain": "[('A', 'a'), ('B', 'b')]"
          },
          "execution_count": 68,
          "metadata": {},
          "output_type": "execute_result"
        }
      ]
    },
    {
      "metadata": {
        "trusted": false
      },
      "cell_type": "code",
      "source": "# se pueden concatar llayes , valor\nagenda",
      "execution_count": 69,
      "outputs": [
        {
          "data": {
            "text/plain": "{'juan': 87984512, 'carlos': 7841247, 'laura': 8715459}"
          },
          "execution_count": 69,
          "metadata": {},
          "output_type": "execute_result"
        }
      ]
    },
    {
      "metadata": {
        "trusted": false
      },
      "cell_type": "code",
      "source": "agenda.update({'carlos':777})",
      "execution_count": 70,
      "outputs": []
    },
    {
      "metadata": {
        "trusted": false
      },
      "cell_type": "code",
      "source": "agenda",
      "execution_count": 71,
      "outputs": [
        {
          "data": {
            "text/plain": "{'juan': 87984512, 'carlos': 777, 'laura': 8715459}"
          },
          "execution_count": 71,
          "metadata": {},
          "output_type": "execute_result"
        }
      ]
    },
    {
      "metadata": {
        "trusted": false
      },
      "cell_type": "code",
      "source": "agenda.update({'maria': 8774570})",
      "execution_count": 72,
      "outputs": []
    },
    {
      "metadata": {
        "trusted": false
      },
      "cell_type": "code",
      "source": "agenda",
      "execution_count": 73,
      "outputs": [
        {
          "data": {
            "text/plain": "{'juan': 87984512, 'carlos': 777, 'laura': 8715459, 'maria': 8774570}"
          },
          "execution_count": 73,
          "metadata": {},
          "output_type": "execute_result"
        }
      ]
    },
    {
      "metadata": {
        "trusted": false
      },
      "cell_type": "code",
      "source": "# se puede concatenar 2 dicts ???",
      "execution_count": 74,
      "outputs": []
    },
    {
      "metadata": {
        "trusted": false
      },
      "cell_type": "code",
      "source": "agenda_2 = {'sofia': 7845, 'pepe': 874512}",
      "execution_count": 75,
      "outputs": []
    },
    {
      "metadata": {
        "trusted": false
      },
      "cell_type": "code",
      "source": "agenda",
      "execution_count": 76,
      "outputs": [
        {
          "data": {
            "text/plain": "{'juan': 87984512, 'carlos': 777, 'laura': 8715459, 'maria': 8774570}"
          },
          "execution_count": 76,
          "metadata": {},
          "output_type": "execute_result"
        }
      ]
    },
    {
      "metadata": {
        "trusted": false
      },
      "cell_type": "code",
      "source": "agenda_2",
      "execution_count": 77,
      "outputs": [
        {
          "data": {
            "text/plain": "{'sofia': 7845, 'pepe': 874512}"
          },
          "execution_count": 77,
          "metadata": {},
          "output_type": "execute_result"
        }
      ]
    },
    {
      "metadata": {
        "trusted": false
      },
      "cell_type": "code",
      "source": "z = dict(**agenda, **agenda_2)\nz",
      "execution_count": 80,
      "outputs": [
        {
          "data": {
            "text/plain": "{'juan': 87984512,\n 'carlos': 777,\n 'laura': 8715459,\n 'maria': 8774570,\n 'sofia': 7845,\n 'pepe': 874512}"
          },
          "execution_count": 80,
          "metadata": {},
          "output_type": "execute_result"
        }
      ]
    },
    {
      "metadata": {
        "trusted": false
      },
      "cell_type": "code",
      "source": "agenda.update(agenda_2)",
      "execution_count": 81,
      "outputs": []
    },
    {
      "metadata": {
        "trusted": false
      },
      "cell_type": "code",
      "source": "agenda",
      "execution_count": 82,
      "outputs": [
        {
          "data": {
            "text/plain": "{'juan': 87984512,\n 'carlos': 777,\n 'laura': 8715459,\n 'maria': 8774570,\n 'sofia': 7845,\n 'pepe': 874512}"
          },
          "execution_count": 82,
          "metadata": {},
          "output_type": "execute_result"
        }
      ]
    },
    {
      "metadata": {
        "trusted": false
      },
      "cell_type": "code",
      "source": "agenda_2",
      "execution_count": 83,
      "outputs": [
        {
          "data": {
            "text/plain": "{'sofia': 7845, 'pepe': 874512}"
          },
          "execution_count": 83,
          "metadata": {},
          "output_type": "execute_result"
        }
      ]
    },
    {
      "metadata": {
        "trusted": false
      },
      "cell_type": "code",
      "source": "dict(agenda_2)",
      "execution_count": 84,
      "outputs": [
        {
          "data": {
            "text/plain": "{'sofia': 7845, 'pepe': 874512}"
          },
          "execution_count": 84,
          "metadata": {},
          "output_type": "execute_result"
        }
      ]
    },
    {
      "metadata": {
        "trusted": false
      },
      "cell_type": "code",
      "source": "dict({'sofia': 22} , **agenda_2)",
      "execution_count": 85,
      "outputs": [
        {
          "data": {
            "text/plain": "{'sofia': 7845, 'pepe': 874512}"
          },
          "execution_count": 85,
          "metadata": {},
          "output_type": "execute_result"
        }
      ]
    },
    {
      "metadata": {
        "trusted": false
      },
      "cell_type": "code",
      "source": "dict({'sofia': 22, 'sofia': 23})",
      "execution_count": 90,
      "outputs": [
        {
          "data": {
            "text/plain": "{'sofia': 23}"
          },
          "execution_count": 90,
          "metadata": {},
          "output_type": "execute_result"
        }
      ]
    },
    {
      "metadata": {
        "trusted": false
      },
      "cell_type": "code",
      "source": "",
      "execution_count": null,
      "outputs": []
    }
  ],
  "metadata": {
    "kernelspec": {
      "name": "python3",
      "display_name": "Python 3",
      "language": "python"
    },
    "language_info": {
      "mimetype": "text/x-python",
      "nbconvert_exporter": "python",
      "name": "python",
      "pygments_lexer": "ipython3",
      "version": "3.5.4",
      "file_extension": ".py",
      "codemirror_mode": {
        "version": 3,
        "name": "ipython"
      }
    }
  },
  "nbformat": 4,
  "nbformat_minor": 2
}