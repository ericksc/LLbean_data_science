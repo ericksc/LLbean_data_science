{
  "cells": [
    {
      "metadata": {},
      "cell_type": "markdown",
      "source": "Las expresiones regulares permiten extender poderes avanzados sobre las simples busquedas en texto y se extienden al remplazo de contenido basado en expresiones o fórmulas más generalizadas."
    },
    {
      "metadata": {},
      "cell_type": "markdown",
      "source": "Se importa el paquete re"
    },
    {
      "metadata": {
        "trusted": false
      },
      "cell_type": "code",
      "source": "import re",
      "execution_count": 1,
      "outputs": []
    },
    {
      "metadata": {},
      "cell_type": "markdown",
      "source": "Se presentas algunos ejemplos de uso."
    },
    {
      "metadata": {},
      "cell_type": "markdown",
      "source": "Para partir o seccionar una frase como: 'Words, words, words.'"
    },
    {
      "metadata": {
        "trusted": false
      },
      "cell_type": "code",
      "source": "# Permite separar cada palabra por cada caracter no alfanumérico, por ejemplo la coma y el punto\nre.split(r'\\W+', 'Words, word.')\n",
      "execution_count": 2,
      "outputs": [
        {
          "data": {
            "text/plain": "['Words', 'words', 'words', '']"
          },
          "execution_count": 2,
          "metadata": {},
          "output_type": "execute_result"
        }
      ]
    },
    {
      "metadata": {
        "trusted": false
      },
      "cell_type": "code",
      "source": "re.split(r'\\D+', 'Hola soy Erick ####### mi numero es: 32131')",
      "execution_count": 6,
      "outputs": [
        {
          "data": {
            "text/plain": "['', '32131']"
          },
          "execution_count": 6,
          "metadata": {},
          "output_type": "execute_result"
        }
      ]
    },
    {
      "metadata": {},
      "cell_type": "markdown",
      "source": "Es posible modificar el comportamiento mediante el uso del parámetro que limita el número que se requiere encontrar una palabra"
    },
    {
      "metadata": {
        "trusted": false
      },
      "cell_type": "code",
      "source": "# Encuentra Words una vez y contiene el resto de la información\nre.split(r'\\W+', 'Words, words, words.', 1)",
      "execution_count": 33,
      "outputs": [
        {
          "data": {
            "text/plain": "['Words', 'words, words.']"
          },
          "execution_count": 33,
          "metadata": {},
          "output_type": "execute_result"
        }
      ]
    },
    {
      "metadata": {},
      "cell_type": "markdown",
      "source": "Es posible tener un criterio extendido de partición, por ejemplo separar números por cualquier letra entre la a y la f, ignorando las mayúsculas."
    },
    {
      "metadata": {
        "trusted": false
      },
      "cell_type": "code",
      "source": "re.split('[a-f]+', '0a3B9', flags=re.IGNORECASE)",
      "execution_count": 5,
      "outputs": [
        {
          "data": {
            "text/plain": "['0', '3', '9']"
          },
          "execution_count": 5,
          "metadata": {},
          "output_type": "execute_result"
        }
      ]
    },
    {
      "metadata": {
        "trusted": false
      },
      "cell_type": "code",
      "source": "re.split('[a-f]+', '0a3B9')",
      "execution_count": 7,
      "outputs": [
        {
          "data": {
            "text/plain": "['0', '3B9']"
          },
          "execution_count": 7,
          "metadata": {},
          "output_type": "execute_result"
        }
      ]
    },
    {
      "metadata": {},
      "cell_type": "markdown",
      "source": "Es posible hacer búsquedas por grupos. El criterio en el siguiente ejemplo es> buscar 2 palabras de cualquier tamaño separas por espacio"
    },
    {
      "metadata": {
        "trusted": false
      },
      "cell_type": "code",
      "source": "m = re.match(r\"(\\w+) (\\w+)\", \"Isaac Newton, physicist\")\nm.group(0)       # The entire match",
      "execution_count": 7,
      "outputs": [
        {
          "data": {
            "text/plain": "'Isaac Newton'"
          },
          "execution_count": 7,
          "metadata": {},
          "output_type": "execute_result"
        }
      ]
    },
    {
      "metadata": {
        "trusted": false
      },
      "cell_type": "code",
      "source": "m = re.match(r\"(\\w+) (\\w+)\",  \"Hola Isaac Newton, physicist\")\nm.group(0)       # The entire match",
      "execution_count": 22,
      "outputs": [
        {
          "data": {
            "text/plain": "'Hola Isaac'"
          },
          "execution_count": 22,
          "metadata": {},
          "output_type": "execute_result"
        }
      ]
    },
    {
      "metadata": {
        "trusted": false
      },
      "cell_type": "code",
      "source": "# reto: busquemos las primeras 2 palabras del \n# siguiente texto\ntexto = 'Hola Mundo soy feliz aprendiendo '",
      "execution_count": 39,
      "outputs": []
    },
    {
      "metadata": {
        "trusted": false
      },
      "cell_type": "code",
      "source": "m = re.match(r\"((\\w+) ){3,4}\",  texto)\nm.group(0)       # The entire match",
      "execution_count": 45,
      "outputs": [
        {
          "data": {
            "text/plain": "'Hola Mundo soy feliz '"
          },
          "execution_count": 45,
          "metadata": {},
          "output_type": "execute_result"
        }
      ]
    },
    {
      "metadata": {
        "trusted": false
      },
      "cell_type": "code",
      "source": "m.group(1)       # The first parenthesized subgroup.",
      "execution_count": 9,
      "outputs": [
        {
          "data": {
            "text/plain": "'Isaac'"
          },
          "execution_count": 9,
          "metadata": {},
          "output_type": "execute_result"
        }
      ]
    },
    {
      "metadata": {
        "trusted": false
      },
      "cell_type": "code",
      "source": "m.group(2)       # The second parenthesized subgroup.",
      "execution_count": 10,
      "outputs": [
        {
          "data": {
            "text/plain": "'Newton'"
          },
          "execution_count": 10,
          "metadata": {},
          "output_type": "execute_result"
        }
      ]
    },
    {
      "metadata": {
        "trusted": false
      },
      "cell_type": "code",
      "source": "m.group(1, 2)    # Multiple arguments give us a tuple.",
      "execution_count": 10,
      "outputs": [
        {
          "data": {
            "text/plain": "('Isaac', 'Newton')"
          },
          "execution_count": 10,
          "metadata": {},
          "output_type": "execute_result"
        }
      ]
    },
    {
      "metadata": {},
      "cell_type": "markdown",
      "source": "Agregando más poderes: permite en el agrupamiento tenga nombres para que luego puede ser invocados por el mismo."
    },
    {
      "metadata": {
        "trusted": false
      },
      "cell_type": "code",
      "source": "# buscar 2 palabras separas por espacio que pueden ser un nombre o un apellido.\nm = re.match(r\"(?P<first_name>\\w+) (?P<last_name>\\w+)\", \"Malcolm Reynolds\")\nm.group('first_name')",
      "execution_count": 46,
      "outputs": [
        {
          "data": {
            "text/plain": "'Malcolm'"
          },
          "execution_count": 46,
          "metadata": {},
          "output_type": "execute_result"
        }
      ]
    },
    {
      "metadata": {
        "trusted": false
      },
      "cell_type": "code",
      "source": "m.group('last_name')",
      "execution_count": 12,
      "outputs": [
        {
          "data": {
            "text/plain": "'Reynolds'"
          },
          "execution_count": 12,
          "metadata": {},
          "output_type": "execute_result"
        }
      ]
    },
    {
      "metadata": {},
      "cell_type": "markdown",
      "source": "Otro ejemplo para buscar 2 números separados por un punto."
    },
    {
      "metadata": {
        "scrolled": true,
        "trusted": false
      },
      "cell_type": "code",
      "source": "m = re.match(r\"(\\d+)\\.(\\d+)\", \"24.1632\")\nm.groups()",
      "execution_count": 13,
      "outputs": [
        {
          "data": {
            "text/plain": "('24', '1632')"
          },
          "execution_count": 13,
          "metadata": {},
          "output_type": "execute_result"
        }
      ]
    },
    {
      "metadata": {
        "trusted": false
      },
      "cell_type": "code",
      "source": "# reto\n# de un direccion de email obtener el usuario y servidor\n# hugo@gmail.com\n# ('hugo', 'gmail')",
      "execution_count": 49,
      "outputs": []
    },
    {
      "metadata": {
        "trusted": false
      },
      "cell_type": "code",
      "source": "m = re.match(r\"(\\w+)@([a-zA-Z0-9\\.]+)\", \"hugo@gmail.com\")\nm.groups()",
      "execution_count": 53,
      "outputs": [
        {
          "data": {
            "text/plain": "('hugo', 'gmail.com')"
          },
          "execution_count": 53,
          "metadata": {},
          "output_type": "execute_result"
        }
      ]
    },
    {
      "metadata": {},
      "cell_type": "markdown",
      "source": "La búsqueda puede ser tratada como si fuera un diccionario para que las busquedas puedan ser consultadas por medio de llaves."
    },
    {
      "metadata": {
        "trusted": false
      },
      "cell_type": "code",
      "source": "m = re.match(r\"(?P<first_name>\\w+) (?P<last_name>\\w+)\", \"Malcolm Reynolds\")\nm.groupdict()",
      "execution_count": 14,
      "outputs": [
        {
          "data": {
            "text/plain": "{'first_name': 'Malcolm', 'last_name': 'Reynolds'}"
          },
          "execution_count": 14,
          "metadata": {},
          "output_type": "execute_result"
        }
      ]
    },
    {
      "metadata": {},
      "cell_type": "markdown",
      "source": "En el caso se requerir sólo validación se encontrar un patrón de búsqueda."
    },
    {
      "metadata": {
        "trusted": false
      },
      "cell_type": "code",
      "source": "#The match() function returns a match object\n# if the text matches the pattern. Otherwise it returns None\npattern = r\"Cookie\"\nsequence = \"Cookie is delicious\"\nif re.match(pattern, sequence):\n  print(\"Match!\")\nelse: print(\"Not a match!\")",
      "execution_count": 18,
      "outputs": [
        {
          "name": "stdout",
          "output_type": "stream",
          "text": "Match!\n"
        }
      ]
    },
    {
      "metadata": {
        "trusted": false
      },
      "cell_type": "code",
      "source": "#The match() function returns a match object\n# if the text matches the pattern. Otherwise it returns None\npattern = r\"Cookie\"\nsequence = \"Cake is delicious\"\nif re.match(pattern, sequence):\n  print(\"Match!\")\nelse: print(\"Not a match!\")",
      "execution_count": 19,
      "outputs": [
        {
          "name": "stdout",
          "output_type": "stream",
          "text": "Not a match!\n"
        }
      ]
    },
    {
      "metadata": {},
      "cell_type": "markdown",
      "source": "Estará el patrón 'Co k e' la frase que se muestra a continuación, cual es la palabra que las cumple:"
    },
    {
      "metadata": {
        "trusted": false
      },
      "cell_type": "code",
      "source": "re.search(r'Co.k.e', 'Coekue is deliciuos').group()",
      "execution_count": 61,
      "outputs": [
        {
          "data": {
            "text/plain": "'Coekue'"
          },
          "execution_count": 61,
          "metadata": {},
          "output_type": "execute_result"
        }
      ]
    },
    {
      "metadata": {},
      "cell_type": "markdown",
      "source": "## Sustituciones"
    },
    {
      "metadata": {},
      "cell_type": "markdown",
      "source": "Es posible buscar por un patrón y hacer un reemplazo."
    },
    {
      "metadata": {
        "trusted": false
      },
      "cell_type": "code",
      "source": "email_address = \"Please contact us at: xyz@python.com\"\nnew_email_address = re.sub(r'([\\w\\.-]+)@([\\w\\.-]+)', \n                           r'erick@python-class.com', \n                           email_address)\nnew_email_address",
      "execution_count": 65,
      "outputs": [
        {
          "data": {
            "text/plain": "'Please contact us at: erick@python-class.com'"
          },
          "execution_count": 65,
          "metadata": {},
          "output_type": "execute_result"
        }
      ]
    },
    {
      "metadata": {},
      "cell_type": "markdown",
      "source": "## Busquedas de multiples contenidos"
    },
    {
      "metadata": {},
      "cell_type": "markdown",
      "source": "Buscar un patrón, por ejemplo el formato de un email y mostrarlo."
    },
    {
      "metadata": {
        "scrolled": true,
        "trusted": false
      },
      "cell_type": "code",
      "source": "email_address = \"0 jhuasdysauy  dfukshdsuy f fdjlhshfs fs @ @da Please contact us at: support@python.com, xyz@python.com more text erick@erick.com\"\n\n#'addresses' is a list that stores all the possible match\naddresses = re.findall(r'[\\w\\.-]+@[\\w\\.-]+', email_address)\nfor address in addresses:\n    print(address)",
      "execution_count": 67,
      "outputs": [
        {
          "name": "stdout",
          "output_type": "stream",
          "text": "support@python.com\nxyz@python.com\nerick@erick.com\n"
        }
      ]
    },
    {
      "metadata": {},
      "cell_type": "markdown",
      "source": "Será que un patrón se cumple es una frase:"
    },
    {
      "metadata": {
        "trusted": false
      },
      "cell_type": "code",
      "source": "pattern = \"C\"\nsequence1 = \"IceCream\"\n\n# No match since \"C\" is not at the start of \"IceCream\"\nre.match(pattern, sequence1)",
      "execution_count": 68,
      "outputs": []
    },
    {
      "metadata": {
        "trusted": false
      },
      "cell_type": "code",
      "source": "pattern = \"I\"\nsequence1 = \"IceCream\"\n\n# Match since \"I\" is at the start of \"IceCream\"\nre.match(pattern, sequence1)",
      "execution_count": 69,
      "outputs": [
        {
          "data": {
            "text/plain": "<_sre.SRE_Match object; span=(0, 1), match='I'>"
          },
          "execution_count": 69,
          "metadata": {},
          "output_type": "execute_result"
        }
      ]
    },
    {
      "metadata": {
        "trusted": false
      },
      "cell_type": "code",
      "source": "# Buscar la primera vez que <algo> se encuentre. \n# El wildcard ? permite parar la primer vez que se encuentra el >\nheading  = r'<h1>TITLE</h1>'\nre.match(r'<.*?>', heading).group()",
      "execution_count": 38,
      "outputs": [
        {
          "data": {
            "text/plain": "'<h1>'"
          },
          "execution_count": 38,
          "metadata": {},
          "output_type": "execute_result"
        }
      ]
    },
    {
      "metadata": {},
      "cell_type": "markdown",
      "source": "Otro ejemplo de búsqueda mediante grupos"
    },
    {
      "metadata": {
        "trusted": false
      },
      "cell_type": "code",
      "source": "email_address = 'Please contact us at: support@python.com'\nmatch = re.search(r'([\\w\\.-]+)@([\\w\\.-]+)', email_address)\nif match:\n  print(match.group()) # The whole matched text\n  print(match.group(1)) # The username (group 1)\n  print(match.group(2)) # The host (group 2)",
      "execution_count": 70,
      "outputs": [
        {
          "name": "stdout",
          "output_type": "stream",
          "text": "support@python.com\nsupport\npython.com\n"
        }
      ]
    },
    {
      "metadata": {
        "trusted": false
      },
      "cell_type": "code",
      "source": "# tarea 1:\n# crear un archivo CSV con registros de 5 personas\n# incluyendo nombre, correo y telefono basados en \n# lista de tuplas:\n# [\n# ('carlos', 'carlos2010@gmail.com', '1231'),\n# ('felipe', 'felipe.arias@gmail.com', '313131')\n# ]\n# leer archivo y mostrar en pantalla:\n# hola soy carlos, mi usuario de correo es carlos2010 y mi telefono 12131",
      "execution_count": 72,
      "outputs": []
    },
    {
      "metadata": {
        "trusted": false
      },
      "cell_type": "code",
      "source": "",
      "execution_count": null,
      "outputs": []
    }
  ],
  "metadata": {
    "kernelspec": {
      "name": "python3",
      "display_name": "Python 3",
      "language": "python"
    },
    "language_info": {
      "mimetype": "text/x-python",
      "nbconvert_exporter": "python",
      "name": "python",
      "file_extension": ".py",
      "version": "3.5.4",
      "pygments_lexer": "ipython3",
      "codemirror_mode": {
        "version": 3,
        "name": "ipython"
      }
    }
  },
  "nbformat": 4,
  "nbformat_minor": 2
}