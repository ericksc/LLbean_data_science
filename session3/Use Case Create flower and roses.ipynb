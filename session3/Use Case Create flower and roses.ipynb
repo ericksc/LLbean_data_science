{
 "cells": [
  {
   "cell_type": "markdown",
   "metadata": {},
   "source": [
    "# Classes and heritage"
   ]
  },
  {
   "cell_type": "markdown",
   "metadata": {},
   "source": [
    "## Use case"
   ]
  },
  {
   "cell_type": "markdown",
   "metadata": {},
   "source": [
    "### Hibrid roses creation"
   ]
  },
  {
   "cell_type": "markdown",
   "metadata": {},
   "source": [
    "In this example, let's create a simple flower with some methods and attributes. That flower structure may be used as template to create a specific type of flower like a rose."
   ]
  },
  {
   "cell_type": "markdown",
   "metadata": {},
   "source": [
    "![text](https://encrypted-tbn0.gstatic.com/images?q=tbn:ANd9GcR-p58gOpazW84KsEZoJ6h0f_UYpX_M-9hpVnUSkPyAYGU6IuI9yg)"
   ]
  },
  {
   "cell_type": "code",
   "execution_count": 2,
   "metadata": {},
   "outputs": [],
   "source": [
    "# Misc classes\n",
    "class misc:\n",
    "    def __repr__(self):\n",
    "        # return the clase name\n",
    "        return self.__class__.__name__\n",
    "\n",
    "    def __str__(self):\n",
    "        # return the clase name\n",
    "        return self.__class__.__name__"
   ]
  },
  {
   "cell_type": "markdown",
   "metadata": {},
   "source": [
    "Create flower components such as lemma, pedicel, stigma and filament"
   ]
  },
  {
   "cell_type": "code",
   "execution_count": 3,
   "metadata": {},
   "outputs": [],
   "source": [
    "# Define lemma class\n",
    "class lemma(misc):\n",
    "    def __init__(self):\n",
    "        self.color = None"
   ]
  },
  {
   "cell_type": "code",
   "execution_count": 4,
   "metadata": {},
   "outputs": [],
   "source": [
    "# Define pedicel class\n",
    "class pedicel(misc):\n",
    "    def __init__(self):\n",
    "        self.color = None"
   ]
  },
  {
   "cell_type": "code",
   "execution_count": 5,
   "metadata": {},
   "outputs": [],
   "source": [
    "# Define stigma class\n",
    "class stigma(misc):\n",
    "    def __init__(self):\n",
    "        self.color = None"
   ]
  },
  {
   "cell_type": "code",
   "execution_count": 6,
   "metadata": {},
   "outputs": [],
   "source": [
    "# Define filament class\n",
    "class filament(misc):\n",
    "    def __init__(self):\n",
    "        self.color = None"
   ]
  },
  {
   "cell_type": "markdown",
   "metadata": {},
   "source": [
    "The generic flower class can be initializated with a few components eg. a list of lemmas."
   ]
  },
  {
   "cell_type": "code",
   "execution_count": 7,
   "metadata": {},
   "outputs": [],
   "source": [
    "# Define simple flower class\n",
    "class flower(misc):\n",
    "    def __init__(self, n_lemma=1, n_stigmas=1, n_filaments=1):\n",
    "        self.n_lemma = n_lemma\n",
    "        self.n_stigmas = n_stigmas        \n",
    "        self.n_filaments = n_filaments\n",
    "\n",
    "    def grow(self):\n",
    "        print(f'The {self.__str__()} is growning')\n",
    "\n",
    "    def dead(self):\n",
    "        print(f'The {self.__str__()} was gone')"
   ]
  },
  {
   "cell_type": "markdown",
   "metadata": {},
   "source": [
    "Create a specific flower as a rose with speficilizaded logic or attributes."
   ]
  },
  {
   "cell_type": "code",
   "execution_count": 8,
   "metadata": {},
   "outputs": [],
   "source": [
    "class rose(flower):\n",
    "\n",
    "    def __init__(self, lemma_color='red',\n",
    "                 stigma_color='green',\n",
    "                 filament_color ='yellow',\n",
    "                 n_lemma=1, n_stigmas=1, n_filaments=1):\n",
    "        super().__init__(n_lemma, n_stigmas, n_filaments)\n"
   ]
  },
  {
   "cell_type": "markdown",
   "metadata": {},
   "source": [
    "Two colored roses were created."
   ]
  },
  {
   "cell_type": "code",
   "execution_count": 10,
   "metadata": {},
   "outputs": [],
   "source": [
    "my_rose_orange = rose('orange',n_lemma=6)\n",
    "my_rose_blue = rose('blue',n_lemma=6)"
   ]
  },
  {
   "cell_type": "code",
   "execution_count": 11,
   "metadata": {},
   "outputs": [
    {
     "name": "stdout",
     "output_type": "stream",
     "text": [
      "The rose is growning\n"
     ]
    }
   ],
   "source": [
    "my_rose_orange.grow()"
   ]
  },
  {
   "cell_type": "code",
   "execution_count": 12,
   "metadata": {},
   "outputs": [
    {
     "name": "stdout",
     "output_type": "stream",
     "text": [
      "The rose was gone\n"
     ]
    }
   ],
   "source": [
    "my_rose_blue.dead()"
   ]
  },
  {
   "cell_type": "code",
   "execution_count": null,
   "metadata": {},
   "outputs": [],
   "source": []
  }
 ],
 "metadata": {
  "kernelspec": {
   "display_name": "Python 3",
   "language": "python",
   "name": "python3"
  },
  "language_info": {
   "codemirror_mode": {
    "name": "ipython",
    "version": 3
   },
   "file_extension": ".py",
   "mimetype": "text/x-python",
   "name": "python",
   "nbconvert_exporter": "python",
   "pygments_lexer": "ipython3",
   "version": "3.6.5"
  }
 },
 "nbformat": 4,
 "nbformat_minor": 2
}
